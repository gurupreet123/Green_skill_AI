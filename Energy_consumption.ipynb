{
 "cells": [
  {
   "cell_type": "code",
   "execution_count": 7,
   "id": "d489e362-cba8-4f21-aec6-2f1b48f41260",
   "metadata": {},
   "outputs": [],
   "source": [
    "# Importing tensorflow\n",
    "from tensorflow.keras.models import Sequential\n",
    "from tensorflow.keras.layers import Dense "
   ]
  },
  {
   "cell_type": "code",
   "execution_count": 8,
   "id": "cdd8aae2-2073-4724-ba64-69061eccbced",
   "metadata": {},
   "outputs": [],
   "source": [
    "import numpy as np\n",
    "import pandas as pd\n",
    "import matplotlib.pyplot as plt\n",
    "from sklearn.model_selection import train_test_split\n",
    "from sklearn.preprocessing import StandardScaler"
   ]
  },
  {
   "cell_type": "code",
   "execution_count": 9,
   "id": "dc4e4766-5219-437d-ad38-d119b2311817",
   "metadata": {},
   "outputs": [
    {
     "data": {
      "text/html": [
       "<div>\n",
       "<style scoped>\n",
       "    .dataframe tbody tr th:only-of-type {\n",
       "        vertical-align: middle;\n",
       "    }\n",
       "\n",
       "    .dataframe tbody tr th {\n",
       "        vertical-align: top;\n",
       "    }\n",
       "\n",
       "    .dataframe thead th {\n",
       "        text-align: right;\n",
       "    }\n",
       "</style>\n",
       "<table border=\"1\" class=\"dataframe\">\n",
       "  <thead>\n",
       "    <tr style=\"text-align: right;\">\n",
       "      <th></th>\n",
       "      <th>temperature</th>\n",
       "      <th>humidity</th>\n",
       "      <th>wind_speed</th>\n",
       "      <th>solar_irradiance</th>\n",
       "      <th>energy_consumption</th>\n",
       "    </tr>\n",
       "  </thead>\n",
       "  <tbody>\n",
       "    <tr>\n",
       "      <th>0</th>\n",
       "      <td>24.363503</td>\n",
       "      <td>31.107976</td>\n",
       "      <td>5.234114</td>\n",
       "      <td>705.432695</td>\n",
       "      <td>307.398145</td>\n",
       "    </tr>\n",
       "    <tr>\n",
       "      <th>1</th>\n",
       "      <td>38.767858</td>\n",
       "      <td>52.514057</td>\n",
       "      <td>4.939576</td>\n",
       "      <td>817.013258</td>\n",
       "      <td>412.444548</td>\n",
       "    </tr>\n",
       "    <tr>\n",
       "      <th>2</th>\n",
       "      <td>33.299849</td>\n",
       "      <td>72.376750</td>\n",
       "      <td>18.125092</td>\n",
       "      <td>325.421109</td>\n",
       "      <td>392.072418</td>\n",
       "    </tr>\n",
       "    <tr>\n",
       "      <th>3</th>\n",
       "      <td>29.966462</td>\n",
       "      <td>63.933493</td>\n",
       "      <td>4.990924</td>\n",
       "      <td>662.386690</td>\n",
       "      <td>119.254957</td>\n",
       "    </tr>\n",
       "    <tr>\n",
       "      <th>4</th>\n",
       "      <td>18.900466</td>\n",
       "      <td>68.393669</td>\n",
       "      <td>5.438995</td>\n",
       "      <td>614.571385</td>\n",
       "      <td>117.162261</td>\n",
       "    </tr>\n",
       "  </tbody>\n",
       "</table>\n",
       "</div>"
      ],
      "text/plain": [
       "   temperature   humidity  wind_speed  solar_irradiance  energy_consumption\n",
       "0    24.363503  31.107976    5.234114        705.432695          307.398145\n",
       "1    38.767858  52.514057    4.939576        817.013258          412.444548\n",
       "2    33.299849  72.376750   18.125092        325.421109          392.072418\n",
       "3    29.966462  63.933493    4.990924        662.386690          119.254957\n",
       "4    18.900466  68.393669    5.438995        614.571385          117.162261"
      ]
     },
     "execution_count": 9,
     "metadata": {},
     "output_type": "execute_result"
    }
   ],
   "source": [
    "data = pd.read_excel('predict_energy_consumption.xlsx')\n",
    "data.head()"
   ]
  },
  {
   "cell_type": "code",
   "execution_count": 10,
   "id": "40c6c88e-911e-42b5-a334-070debc49c06",
   "metadata": {},
   "outputs": [
    {
     "name": "stdout",
     "output_type": "stream",
     "text": [
      "<class 'pandas.core.frame.DataFrame'>\n",
      "RangeIndex: 1000 entries, 0 to 999\n",
      "Data columns (total 5 columns):\n",
      " #   Column              Non-Null Count  Dtype  \n",
      "---  ------              --------------  -----  \n",
      " 0   temperature         1000 non-null   float64\n",
      " 1   humidity            1000 non-null   float64\n",
      " 2   wind_speed          1000 non-null   float64\n",
      " 3   solar_irradiance    1000 non-null   float64\n",
      " 4   energy_consumption  1000 non-null   float64\n",
      "dtypes: float64(5)\n",
      "memory usage: 39.2 KB\n"
     ]
    }
   ],
   "source": [
    "data.info()"
   ]
  },
  {
   "cell_type": "code",
   "execution_count": 11,
   "id": "3fbee2ab-5d36-4c9b-954d-88f890740fab",
   "metadata": {},
   "outputs": [
    {
     "data": {
      "text/html": [
       "<div>\n",
       "<style scoped>\n",
       "    .dataframe tbody tr th:only-of-type {\n",
       "        vertical-align: middle;\n",
       "    }\n",
       "\n",
       "    .dataframe tbody tr th {\n",
       "        vertical-align: top;\n",
       "    }\n",
       "\n",
       "    .dataframe thead th {\n",
       "        text-align: right;\n",
       "    }\n",
       "</style>\n",
       "<table border=\"1\" class=\"dataframe\">\n",
       "  <thead>\n",
       "    <tr style=\"text-align: right;\">\n",
       "      <th></th>\n",
       "      <th>temperature</th>\n",
       "      <th>humidity</th>\n",
       "      <th>wind_speed</th>\n",
       "      <th>solar_irradiance</th>\n",
       "      <th>energy_consumption</th>\n",
       "    </tr>\n",
       "  </thead>\n",
       "  <tbody>\n",
       "    <tr>\n",
       "      <th>0</th>\n",
       "      <td>24.363503</td>\n",
       "      <td>31.107976</td>\n",
       "      <td>5.234114</td>\n",
       "      <td>705.432695</td>\n",
       "      <td>307.398145</td>\n",
       "    </tr>\n",
       "    <tr>\n",
       "      <th>1</th>\n",
       "      <td>38.767858</td>\n",
       "      <td>52.514057</td>\n",
       "      <td>4.939576</td>\n",
       "      <td>817.013258</td>\n",
       "      <td>412.444548</td>\n",
       "    </tr>\n",
       "    <tr>\n",
       "      <th>2</th>\n",
       "      <td>33.299849</td>\n",
       "      <td>72.376750</td>\n",
       "      <td>18.125092</td>\n",
       "      <td>325.421109</td>\n",
       "      <td>392.072418</td>\n",
       "    </tr>\n",
       "    <tr>\n",
       "      <th>3</th>\n",
       "      <td>29.966462</td>\n",
       "      <td>63.933493</td>\n",
       "      <td>4.990924</td>\n",
       "      <td>662.386690</td>\n",
       "      <td>119.254957</td>\n",
       "    </tr>\n",
       "    <tr>\n",
       "      <th>4</th>\n",
       "      <td>18.900466</td>\n",
       "      <td>68.393669</td>\n",
       "      <td>5.438995</td>\n",
       "      <td>614.571385</td>\n",
       "      <td>117.162261</td>\n",
       "    </tr>\n",
       "  </tbody>\n",
       "</table>\n",
       "</div>"
      ],
      "text/plain": [
       "   temperature   humidity  wind_speed  solar_irradiance  energy_consumption\n",
       "0    24.363503  31.107976    5.234114        705.432695          307.398145\n",
       "1    38.767858  52.514057    4.939576        817.013258          412.444548\n",
       "2    33.299849  72.376750   18.125092        325.421109          392.072418\n",
       "3    29.966462  63.933493    4.990924        662.386690          119.254957\n",
       "4    18.900466  68.393669    5.438995        614.571385          117.162261"
      ]
     },
     "execution_count": 11,
     "metadata": {},
     "output_type": "execute_result"
    }
   ],
   "source": [
    "data.head()"
   ]
  },
  {
   "cell_type": "code",
   "execution_count": 12,
   "id": "b974c0b0-352f-48b8-9c7c-a829d8ad9545",
   "metadata": {},
   "outputs": [
    {
     "data": {
      "text/plain": [
       "Index(['temperature', 'humidity', 'wind_speed', 'solar_irradiance',\n",
       "       'energy_consumption'],\n",
       "      dtype='object')"
      ]
     },
     "execution_count": 12,
     "metadata": {},
     "output_type": "execute_result"
    }
   ],
   "source": [
    "data.columns"
   ]
  },
  {
   "cell_type": "code",
   "execution_count": 13,
   "id": "c0004fe8-55c5-4f35-ab1d-0f1e2cca6786",
   "metadata": {},
   "outputs": [
    {
     "data": {
      "text/html": [
       "<div>\n",
       "<style scoped>\n",
       "    .dataframe tbody tr th:only-of-type {\n",
       "        vertical-align: middle;\n",
       "    }\n",
       "\n",
       "    .dataframe tbody tr th {\n",
       "        vertical-align: top;\n",
       "    }\n",
       "\n",
       "    .dataframe thead th {\n",
       "        text-align: right;\n",
       "    }\n",
       "</style>\n",
       "<table border=\"1\" class=\"dataframe\">\n",
       "  <thead>\n",
       "    <tr style=\"text-align: right;\">\n",
       "      <th></th>\n",
       "      <th>temperature</th>\n",
       "      <th>humidity</th>\n",
       "      <th>wind_speed</th>\n",
       "      <th>solar_irradiance</th>\n",
       "      <th>energy_consumption</th>\n",
       "    </tr>\n",
       "  </thead>\n",
       "  <tbody>\n",
       "    <tr>\n",
       "      <th>count</th>\n",
       "      <td>1000.000000</td>\n",
       "      <td>1000.000000</td>\n",
       "      <td>1000.000000</td>\n",
       "      <td>1000.000000</td>\n",
       "      <td>1000.000000</td>\n",
       "    </tr>\n",
       "    <tr>\n",
       "      <th>mean</th>\n",
       "      <td>27.256414</td>\n",
       "      <td>50.421038</td>\n",
       "      <td>10.048115</td>\n",
       "      <td>541.337543</td>\n",
       "      <td>272.347395</td>\n",
       "    </tr>\n",
       "    <tr>\n",
       "      <th>std</th>\n",
       "      <td>7.303434</td>\n",
       "      <td>17.531394</td>\n",
       "      <td>5.813484</td>\n",
       "      <td>257.840410</td>\n",
       "      <td>129.064474</td>\n",
       "    </tr>\n",
       "    <tr>\n",
       "      <th>min</th>\n",
       "      <td>15.115801</td>\n",
       "      <td>20.193096</td>\n",
       "      <td>0.000233</td>\n",
       "      <td>100.588052</td>\n",
       "      <td>50.013823</td>\n",
       "    </tr>\n",
       "    <tr>\n",
       "      <th>25%</th>\n",
       "      <td>20.899332</td>\n",
       "      <td>34.464456</td>\n",
       "      <td>5.227020</td>\n",
       "      <td>317.710693</td>\n",
       "      <td>160.238303</td>\n",
       "    </tr>\n",
       "    <tr>\n",
       "      <th>50%</th>\n",
       "      <td>27.420184</td>\n",
       "      <td>51.124034</td>\n",
       "      <td>10.012278</td>\n",
       "      <td>535.851355</td>\n",
       "      <td>272.569144</td>\n",
       "    </tr>\n",
       "    <tr>\n",
       "      <th>75%</th>\n",
       "      <td>33.607990</td>\n",
       "      <td>65.627903</td>\n",
       "      <td>15.182071</td>\n",
       "      <td>763.786729</td>\n",
       "      <td>382.997053</td>\n",
       "    </tr>\n",
       "    <tr>\n",
       "      <th>max</th>\n",
       "      <td>39.992942</td>\n",
       "      <td>79.964824</td>\n",
       "      <td>19.956417</td>\n",
       "      <td>999.601933</td>\n",
       "      <td>498.987225</td>\n",
       "    </tr>\n",
       "  </tbody>\n",
       "</table>\n",
       "</div>"
      ],
      "text/plain": [
       "       temperature     humidity   wind_speed  solar_irradiance  \\\n",
       "count  1000.000000  1000.000000  1000.000000       1000.000000   \n",
       "mean     27.256414    50.421038    10.048115        541.337543   \n",
       "std       7.303434    17.531394     5.813484        257.840410   \n",
       "min      15.115801    20.193096     0.000233        100.588052   \n",
       "25%      20.899332    34.464456     5.227020        317.710693   \n",
       "50%      27.420184    51.124034    10.012278        535.851355   \n",
       "75%      33.607990    65.627903    15.182071        763.786729   \n",
       "max      39.992942    79.964824    19.956417        999.601933   \n",
       "\n",
       "       energy_consumption  \n",
       "count         1000.000000  \n",
       "mean           272.347395  \n",
       "std            129.064474  \n",
       "min             50.013823  \n",
       "25%            160.238303  \n",
       "50%            272.569144  \n",
       "75%            382.997053  \n",
       "max            498.987225  "
      ]
     },
     "execution_count": 13,
     "metadata": {},
     "output_type": "execute_result"
    }
   ],
   "source": [
    "data.describe()"
   ]
  },
  {
   "cell_type": "code",
   "execution_count": 14,
   "id": "e3fdf79f-8052-424b-a6f1-64f0662bbcb0",
   "metadata": {},
   "outputs": [
    {
     "data": {
      "text/plain": [
       "(1000, 5)"
      ]
     },
     "execution_count": 14,
     "metadata": {},
     "output_type": "execute_result"
    }
   ],
   "source": [
    "data.shape"
   ]
  },
  {
   "cell_type": "code",
   "execution_count": 15,
   "id": "28b3b155-de60-4be9-9236-5ee294e6b206",
   "metadata": {},
   "outputs": [
    {
     "data": {
      "text/plain": [
       "temperature           0\n",
       "humidity              0\n",
       "wind_speed            0\n",
       "solar_irradiance      0\n",
       "energy_consumption    0\n",
       "dtype: int64"
      ]
     },
     "execution_count": 15,
     "metadata": {},
     "output_type": "execute_result"
    }
   ],
   "source": [
    "data.isnull().sum()"
   ]
  },
  {
   "cell_type": "code",
   "execution_count": 16,
   "id": "591e329f-e0cb-4c64-b160-8a7c4e48f5e6",
   "metadata": {},
   "outputs": [
    {
     "data": {
      "text/plain": [
       "0"
      ]
     },
     "execution_count": 16,
     "metadata": {},
     "output_type": "execute_result"
    }
   ],
   "source": [
    "data.isnull().sum().sum()"
   ]
  },
  {
   "cell_type": "code",
   "execution_count": 17,
   "id": "83783baa-9f33-4f19-90af-9ee18f45a953",
   "metadata": {},
   "outputs": [],
   "source": [
    "X = data[['temperature', 'humidity', 'wind_speed', 'solar_irradiance']].values \n",
    "y = data['energy_consumption'].values"
   ]
  },
  {
   "cell_type": "code",
   "execution_count": 18,
   "id": "d52008d8-6c84-4478-b98d-34b9dc4b408d",
   "metadata": {},
   "outputs": [],
   "source": [
    "X_train, X_test, y_train, y_test = train_test_split(X, y, test_size=0.2, random_state=42)"
   ]
  },
  {
   "cell_type": "code",
   "execution_count": 19,
   "id": "b7bc1a53-98e7-4b66-8952-c8c1157b04e9",
   "metadata": {},
   "outputs": [],
   "source": [
    "scaler = StandardScaler()\n",
    "X_train = scaler.fit_transform(X_train)\n",
    "X_test = scaler.transform(X_test)"
   ]
  },
  {
   "cell_type": "code",
   "execution_count": 20,
   "id": "557cdd03-8840-42fb-854a-be2b003904eb",
   "metadata": {},
   "outputs": [
    {
     "name": "stderr",
     "output_type": "stream",
     "text": [
      "/opt/anaconda3/lib/python3.12/site-packages/keras/src/layers/core/dense.py:87: UserWarning: Do not pass an `input_shape`/`input_dim` argument to a layer. When using Sequential models, prefer using an `Input(shape)` object as the first layer in the model instead.\n",
      "  super().__init__(activity_regularizer=activity_regularizer, **kwargs)\n"
     ]
    }
   ],
   "source": [
    "model = Sequential([\n",
    "    Dense(64, activation='relu', input_shape=(X_train.shape[1],)),\n",
    "    Dense(32, activation='relu'),\n",
    "    Dense(1)\n",
    "])"
   ]
  },
  {
   "cell_type": "code",
   "execution_count": 21,
   "id": "8d67622b-8c36-478d-b307-db5fa7e78bcd",
   "metadata": {},
   "outputs": [],
   "source": [
    "model.compile(optimizer='adam', loss='mse', metrics=['mae'])\n",
    "#Mean squared error and mean absolute error "
   ]
  },
  {
   "cell_type": "code",
   "execution_count": 22,
   "id": "716339e0-8b06-4701-8f12-df0bf60b7f8e",
   "metadata": {},
   "outputs": [
    {
     "name": "stdout",
     "output_type": "stream",
     "text": [
      "Epoch 1/50\n",
      "\u001b[1m20/20\u001b[0m \u001b[32m━━━━━━━━━━━━━━━━━━━━\u001b[0m\u001b[37m\u001b[0m \u001b[1m0s\u001b[0m 4ms/step - loss: 92268.0938 - mae: 275.6541 - val_loss: 83592.2344 - val_mae: 258.7950\n",
      "Epoch 2/50\n",
      "\u001b[1m20/20\u001b[0m \u001b[32m━━━━━━━━━━━━━━━━━━━━\u001b[0m\u001b[37m\u001b[0m \u001b[1m0s\u001b[0m 2ms/step - loss: 88025.5625 - mae: 265.9334 - val_loss: 82902.8984 - val_mae: 257.4536\n",
      "Epoch 3/50\n",
      "\u001b[1m20/20\u001b[0m \u001b[32m━━━━━━━━━━━━━━━━━━━━\u001b[0m\u001b[37m\u001b[0m \u001b[1m0s\u001b[0m 2ms/step - loss: 89138.0859 - mae: 269.0652 - val_loss: 81864.0469 - val_mae: 255.4148\n",
      "Epoch 4/50\n",
      "\u001b[1m20/20\u001b[0m \u001b[32m━━━━━━━━━━━━━━━━━━━━\u001b[0m\u001b[37m\u001b[0m \u001b[1m0s\u001b[0m 2ms/step - loss: 86160.6797 - mae: 263.1644 - val_loss: 80328.7969 - val_mae: 252.3708\n",
      "Epoch 5/50\n",
      "\u001b[1m20/20\u001b[0m \u001b[32m━━━━━━━━━━━━━━━━━━━━\u001b[0m\u001b[37m\u001b[0m \u001b[1m0s\u001b[0m 2ms/step - loss: 87588.4531 - mae: 268.0603 - val_loss: 78119.2500 - val_mae: 247.9213\n",
      "Epoch 6/50\n",
      "\u001b[1m20/20\u001b[0m \u001b[32m━━━━━━━━━━━━━━━━━━━━\u001b[0m\u001b[37m\u001b[0m \u001b[1m0s\u001b[0m 2ms/step - loss: 81123.9688 - mae: 254.1813 - val_loss: 75078.9766 - val_mae: 241.6606\n",
      "Epoch 7/50\n",
      "\u001b[1m20/20\u001b[0m \u001b[32m━━━━━━━━━━━━━━━━━━━━\u001b[0m\u001b[37m\u001b[0m \u001b[1m0s\u001b[0m 1ms/step - loss: 81071.0234 - mae: 254.6845 - val_loss: 71081.4844 - val_mae: 233.1641\n",
      "Epoch 8/50\n",
      "\u001b[1m20/20\u001b[0m \u001b[32m━━━━━━━━━━━━━━━━━━━━\u001b[0m\u001b[37m\u001b[0m \u001b[1m0s\u001b[0m 2ms/step - loss: 77981.2422 - mae: 246.9911 - val_loss: 66049.1016 - val_mae: 222.0009\n",
      "Epoch 9/50\n",
      "\u001b[1m20/20\u001b[0m \u001b[32m━━━━━━━━━━━━━━━━━━━━\u001b[0m\u001b[37m\u001b[0m \u001b[1m0s\u001b[0m 2ms/step - loss: 71108.4297 - mae: 233.9719 - val_loss: 60131.2891 - val_mae: 208.3868\n",
      "Epoch 10/50\n",
      "\u001b[1m20/20\u001b[0m \u001b[32m━━━━━━━━━━━━━━━━━━━━\u001b[0m\u001b[37m\u001b[0m \u001b[1m0s\u001b[0m 1ms/step - loss: 62586.7305 - mae: 214.4515 - val_loss: 53508.4180 - val_mae: 192.5392\n",
      "Epoch 11/50\n",
      "\u001b[1m20/20\u001b[0m \u001b[32m━━━━━━━━━━━━━━━━━━━━\u001b[0m\u001b[37m\u001b[0m \u001b[1m0s\u001b[0m 1ms/step - loss: 54347.1172 - mae: 194.7370 - val_loss: 46531.8203 - val_mae: 176.4699\n",
      "Epoch 12/50\n",
      "\u001b[1m20/20\u001b[0m \u001b[32m━━━━━━━━━━━━━━━━━━━━\u001b[0m\u001b[37m\u001b[0m \u001b[1m0s\u001b[0m 2ms/step - loss: 49961.2969 - mae: 185.5915 - val_loss: 39496.3359 - val_mae: 160.4292\n",
      "Epoch 13/50\n",
      "\u001b[1m20/20\u001b[0m \u001b[32m━━━━━━━━━━━━━━━━━━━━\u001b[0m\u001b[37m\u001b[0m \u001b[1m0s\u001b[0m 2ms/step - loss: 41073.2773 - mae: 162.3613 - val_loss: 33159.8594 - val_mae: 145.5320\n",
      "Epoch 14/50\n",
      "\u001b[1m20/20\u001b[0m \u001b[32m━━━━━━━━━━━━━━━━━━━━\u001b[0m\u001b[37m\u001b[0m \u001b[1m0s\u001b[0m 1ms/step - loss: 37119.8242 - mae: 158.0777 - val_loss: 27663.6562 - val_mae: 133.2665\n",
      "Epoch 15/50\n",
      "\u001b[1m20/20\u001b[0m \u001b[32m━━━━━━━━━━━━━━━━━━━━\u001b[0m\u001b[37m\u001b[0m \u001b[1m0s\u001b[0m 2ms/step - loss: 27812.7246 - mae: 136.4865 - val_loss: 23655.1250 - val_mae: 124.8496\n",
      "Epoch 16/50\n",
      "\u001b[1m20/20\u001b[0m \u001b[32m━━━━━━━━━━━━━━━━━━━━\u001b[0m\u001b[37m\u001b[0m \u001b[1m0s\u001b[0m 2ms/step - loss: 23912.2637 - mae: 127.4640 - val_loss: 20987.4219 - val_mae: 119.9498\n",
      "Epoch 17/50\n",
      "\u001b[1m20/20\u001b[0m \u001b[32m━━━━━━━━━━━━━━━━━━━━\u001b[0m\u001b[37m\u001b[0m \u001b[1m0s\u001b[0m 2ms/step - loss: 21019.1973 - mae: 121.5509 - val_loss: 19364.2852 - val_mae: 117.3375\n",
      "Epoch 18/50\n",
      "\u001b[1m20/20\u001b[0m \u001b[32m━━━━━━━━━━━━━━━━━━━━\u001b[0m\u001b[37m\u001b[0m \u001b[1m0s\u001b[0m 2ms/step - loss: 18736.8984 - mae: 116.7648 - val_loss: 18663.7930 - val_mae: 116.4449\n",
      "Epoch 19/50\n",
      "\u001b[1m20/20\u001b[0m \u001b[32m━━━━━━━━━━━━━━━━━━━━\u001b[0m\u001b[37m\u001b[0m \u001b[1m0s\u001b[0m 1ms/step - loss: 18410.4336 - mae: 117.0715 - val_loss: 18396.4453 - val_mae: 116.4438\n",
      "Epoch 20/50\n",
      "\u001b[1m20/20\u001b[0m \u001b[32m━━━━━━━━━━━━━━━━━━━━\u001b[0m\u001b[37m\u001b[0m \u001b[1m0s\u001b[0m 1ms/step - loss: 19286.8105 - mae: 121.9826 - val_loss: 18375.8164 - val_mae: 116.5212\n",
      "Epoch 21/50\n",
      "\u001b[1m20/20\u001b[0m \u001b[32m━━━━━━━━━━━━━━━━━━━━\u001b[0m\u001b[37m\u001b[0m \u001b[1m0s\u001b[0m 1ms/step - loss: 17680.5078 - mae: 114.8681 - val_loss: 18408.8223 - val_mae: 116.7431\n",
      "Epoch 22/50\n",
      "\u001b[1m20/20\u001b[0m \u001b[32m━━━━━━━━━━━━━━━━━━━━\u001b[0m\u001b[37m\u001b[0m \u001b[1m0s\u001b[0m 1ms/step - loss: 17055.3184 - mae: 112.0166 - val_loss: 18433.1152 - val_mae: 116.8698\n",
      "Epoch 23/50\n",
      "\u001b[1m20/20\u001b[0m \u001b[32m━━━━━━━━━━━━━━━━━━━━\u001b[0m\u001b[37m\u001b[0m \u001b[1m0s\u001b[0m 1ms/step - loss: 17216.2500 - mae: 113.4373 - val_loss: 18487.3555 - val_mae: 117.1312\n",
      "Epoch 24/50\n",
      "\u001b[1m20/20\u001b[0m \u001b[32m━━━━━━━━━━━━━━━━━━━━\u001b[0m\u001b[37m\u001b[0m \u001b[1m0s\u001b[0m 2ms/step - loss: 16950.2500 - mae: 113.1521 - val_loss: 18469.3008 - val_mae: 116.9901\n",
      "Epoch 25/50\n",
      "\u001b[1m20/20\u001b[0m \u001b[32m━━━━━━━━━━━━━━━━━━━━\u001b[0m\u001b[37m\u001b[0m \u001b[1m0s\u001b[0m 2ms/step - loss: 17407.7148 - mae: 114.2104 - val_loss: 18491.5879 - val_mae: 117.1286\n",
      "Epoch 26/50\n",
      "\u001b[1m20/20\u001b[0m \u001b[32m━━━━━━━━━━━━━━━━━━━━\u001b[0m\u001b[37m\u001b[0m \u001b[1m0s\u001b[0m 2ms/step - loss: 17161.5000 - mae: 112.4244 - val_loss: 18507.5371 - val_mae: 117.1986\n",
      "Epoch 27/50\n",
      "\u001b[1m20/20\u001b[0m \u001b[32m━━━━━━━━━━━━━━━━━━━━\u001b[0m\u001b[37m\u001b[0m \u001b[1m0s\u001b[0m 2ms/step - loss: 17297.8555 - mae: 112.9025 - val_loss: 18493.7109 - val_mae: 117.0776\n",
      "Epoch 28/50\n",
      "\u001b[1m20/20\u001b[0m \u001b[32m━━━━━━━━━━━━━━━━━━━━\u001b[0m\u001b[37m\u001b[0m \u001b[1m0s\u001b[0m 2ms/step - loss: 17162.2852 - mae: 113.3584 - val_loss: 18470.1094 - val_mae: 117.0004\n",
      "Epoch 29/50\n",
      "\u001b[1m20/20\u001b[0m \u001b[32m━━━━━━━━━━━━━━━━━━━━\u001b[0m\u001b[37m\u001b[0m \u001b[1m0s\u001b[0m 2ms/step - loss: 17642.3496 - mae: 115.2872 - val_loss: 18469.6445 - val_mae: 117.0816\n",
      "Epoch 30/50\n",
      "\u001b[1m20/20\u001b[0m \u001b[32m━━━━━━━━━━━━━━━━━━━━\u001b[0m\u001b[37m\u001b[0m \u001b[1m0s\u001b[0m 2ms/step - loss: 16934.8867 - mae: 113.2076 - val_loss: 18483.3887 - val_mae: 117.0977\n",
      "Epoch 31/50\n",
      "\u001b[1m20/20\u001b[0m \u001b[32m━━━━━━━━━━━━━━━━━━━━\u001b[0m\u001b[37m\u001b[0m \u001b[1m0s\u001b[0m 2ms/step - loss: 16804.6523 - mae: 111.8167 - val_loss: 18435.6934 - val_mae: 116.9440\n",
      "Epoch 32/50\n",
      "\u001b[1m20/20\u001b[0m \u001b[32m━━━━━━━━━━━━━━━━━━━━\u001b[0m\u001b[37m\u001b[0m \u001b[1m0s\u001b[0m 2ms/step - loss: 16455.4355 - mae: 110.0166 - val_loss: 18430.4727 - val_mae: 116.9053\n",
      "Epoch 33/50\n",
      "\u001b[1m20/20\u001b[0m \u001b[32m━━━━━━━━━━━━━━━━━━━━\u001b[0m\u001b[37m\u001b[0m \u001b[1m0s\u001b[0m 2ms/step - loss: 17635.4316 - mae: 114.0926 - val_loss: 18448.1289 - val_mae: 117.0476\n",
      "Epoch 34/50\n",
      "\u001b[1m20/20\u001b[0m \u001b[32m━━━━━━━━━━━━━━━━━━━━\u001b[0m\u001b[37m\u001b[0m \u001b[1m0s\u001b[0m 3ms/step - loss: 16460.0254 - mae: 110.7195 - val_loss: 18398.2676 - val_mae: 116.8078\n",
      "Epoch 35/50\n",
      "\u001b[1m20/20\u001b[0m \u001b[32m━━━━━━━━━━━━━━━━━━━━\u001b[0m\u001b[37m\u001b[0m \u001b[1m0s\u001b[0m 2ms/step - loss: 16591.1680 - mae: 110.8720 - val_loss: 18415.0762 - val_mae: 116.8848\n",
      "Epoch 36/50\n",
      "\u001b[1m20/20\u001b[0m \u001b[32m━━━━━━━━━━━━━━━━━━━━\u001b[0m\u001b[37m\u001b[0m \u001b[1m0s\u001b[0m 2ms/step - loss: 16701.5293 - mae: 111.5944 - val_loss: 18452.1348 - val_mae: 117.0005\n",
      "Epoch 37/50\n",
      "\u001b[1m20/20\u001b[0m \u001b[32m━━━━━━━━━━━━━━━━━━━━\u001b[0m\u001b[37m\u001b[0m \u001b[1m0s\u001b[0m 2ms/step - loss: 17602.4922 - mae: 114.2738 - val_loss: 18421.0254 - val_mae: 116.9540\n",
      "Epoch 38/50\n",
      "\u001b[1m20/20\u001b[0m \u001b[32m━━━━━━━━━━━━━━━━━━━━\u001b[0m\u001b[37m\u001b[0m \u001b[1m0s\u001b[0m 2ms/step - loss: 17623.8945 - mae: 115.1358 - val_loss: 18417.5645 - val_mae: 116.9669\n",
      "Epoch 39/50\n",
      "\u001b[1m20/20\u001b[0m \u001b[32m━━━━━━━━━━━━━━━━━━━━\u001b[0m\u001b[37m\u001b[0m \u001b[1m0s\u001b[0m 2ms/step - loss: 17107.9141 - mae: 112.8691 - val_loss: 18380.1094 - val_mae: 116.8398\n",
      "Epoch 40/50\n",
      "\u001b[1m20/20\u001b[0m \u001b[32m━━━━━━━━━━━━━━━━━━━━\u001b[0m\u001b[37m\u001b[0m \u001b[1m0s\u001b[0m 2ms/step - loss: 16132.7354 - mae: 109.4994 - val_loss: 18415.8555 - val_mae: 116.9748\n",
      "Epoch 41/50\n",
      "\u001b[1m20/20\u001b[0m \u001b[32m━━━━━━━━━━━━━━━━━━━━\u001b[0m\u001b[37m\u001b[0m \u001b[1m0s\u001b[0m 2ms/step - loss: 16702.4805 - mae: 111.4449 - val_loss: 18350.5801 - val_mae: 116.6872\n",
      "Epoch 42/50\n",
      "\u001b[1m20/20\u001b[0m \u001b[32m━━━━━━━━━━━━━━━━━━━━\u001b[0m\u001b[37m\u001b[0m \u001b[1m0s\u001b[0m 2ms/step - loss: 18020.4121 - mae: 117.9961 - val_loss: 18386.3242 - val_mae: 116.9117\n",
      "Epoch 43/50\n",
      "\u001b[1m20/20\u001b[0m \u001b[32m━━━━━━━━━━━━━━━━━━━━\u001b[0m\u001b[37m\u001b[0m \u001b[1m0s\u001b[0m 2ms/step - loss: 17118.9551 - mae: 113.5431 - val_loss: 18367.8320 - val_mae: 116.8825\n",
      "Epoch 44/50\n",
      "\u001b[1m20/20\u001b[0m \u001b[32m━━━━━━━━━━━━━━━━━━━━\u001b[0m\u001b[37m\u001b[0m \u001b[1m0s\u001b[0m 2ms/step - loss: 17361.3027 - mae: 114.1225 - val_loss: 18394.2383 - val_mae: 116.8973\n",
      "Epoch 45/50\n",
      "\u001b[1m20/20\u001b[0m \u001b[32m━━━━━━━━━━━━━━━━━━━━\u001b[0m\u001b[37m\u001b[0m \u001b[1m0s\u001b[0m 2ms/step - loss: 16217.9062 - mae: 109.5697 - val_loss: 18336.0469 - val_mae: 116.6696\n",
      "Epoch 46/50\n",
      "\u001b[1m20/20\u001b[0m \u001b[32m━━━━━━━━━━━━━━━━━━━━\u001b[0m\u001b[37m\u001b[0m \u001b[1m0s\u001b[0m 2ms/step - loss: 17128.4219 - mae: 114.3481 - val_loss: 18355.0000 - val_mae: 116.7240\n",
      "Epoch 47/50\n",
      "\u001b[1m20/20\u001b[0m \u001b[32m━━━━━━━━━━━━━━━━━━━━\u001b[0m\u001b[37m\u001b[0m \u001b[1m0s\u001b[0m 2ms/step - loss: 17724.3008 - mae: 115.2682 - val_loss: 18377.0352 - val_mae: 116.9115\n",
      "Epoch 48/50\n",
      "\u001b[1m20/20\u001b[0m \u001b[32m━━━━━━━━━━━━━━━━━━━━\u001b[0m\u001b[37m\u001b[0m \u001b[1m0s\u001b[0m 2ms/step - loss: 16753.2559 - mae: 112.3396 - val_loss: 18353.6543 - val_mae: 116.8068\n",
      "Epoch 49/50\n",
      "\u001b[1m20/20\u001b[0m \u001b[32m━━━━━━━━━━━━━━━━━━━━\u001b[0m\u001b[37m\u001b[0m \u001b[1m0s\u001b[0m 2ms/step - loss: 17136.8984 - mae: 113.6156 - val_loss: 18323.2715 - val_mae: 116.6371\n",
      "Epoch 50/50\n",
      "\u001b[1m20/20\u001b[0m \u001b[32m━━━━━━━━━━━━━━━━━━━━\u001b[0m\u001b[37m\u001b[0m \u001b[1m0s\u001b[0m 2ms/step - loss: 17437.1973 - mae: 115.0762 - val_loss: 18371.9336 - val_mae: 116.8641\n"
     ]
    }
   ],
   "source": [
    "history = model.fit(X_train, y_train, epochs=50, batch_size=32, validation_split=0.2, verbose=1)"
   ]
  },
  {
   "cell_type": "code",
   "execution_count": 23,
   "id": "9cf6b12d-4c2a-4b98-bd72-3fc2ef87866e",
   "metadata": {},
   "outputs": [
    {
     "name": "stdout",
     "output_type": "stream",
     "text": [
      "\u001b[1m7/7\u001b[0m \u001b[32m━━━━━━━━━━━━━━━━━━━━\u001b[0m\u001b[37m\u001b[0m \u001b[1m0s\u001b[0m 2ms/step - loss: 18033.9180 - mae: 115.4408 \n",
      "Test Mean Absolute Error: 115.73\n"
     ]
    }
   ],
   "source": [
    "test_loss, test_mae = model.evaluate(X_test, y_test, verbose=1)\n",
    "print(f\"Test Mean Absolute Error: {test_mae:.2f}\")"
   ]
  },
  {
   "cell_type": "code",
   "execution_count": 24,
   "id": "e693e247-df7f-43f3-b132-e723c1715fe4",
   "metadata": {},
   "outputs": [
    {
     "data": {
      "image/png": "[encoded data removed]",
      "text/plain": [
       "<Figure size 640x480 with 1 Axes>"
      ]
     },
     "metadata": {},
     "output_type": "display_data"
    }
   ],
   "source": [
    "plt.plot(history.history['loss'], label='Training Loss')\n",
    "plt.plot(history.history['val_loss'], label='Validation Loss')\n",
    "plt.xlabel('Epochs')\n",
    "plt.ylabel('Loss')\n",
    "plt.title('Model Training Performance')\n",
    "plt.legend()\n",
    "plt.show()"
   ]
  },
  {
   "cell_type": "code",
   "execution_count": 25,
   "id": "cb25ba21-4cad-43cf-8c97-946ac9cc8ba4",
   "metadata": {},
   "outputs": [
    {
     "name": "stdout",
     "output_type": "stream",
     "text": [
      "\u001b[1m7/7\u001b[0m \u001b[32m━━━━━━━━━━━━━━━━━━━━\u001b[0m\u001b[37m\u001b[0m \u001b[1m0s\u001b[0m 3ms/step \n"
     ]
    },
    {
     "data": {
      "text/plain": [
       "array([[280.83878],\n",
       "       [241.35928],\n",
       "       [257.14163],\n",
       "       [208.419  ],\n",
       "       [353.4313 ],\n",
       "       [294.3262 ],\n",
       "       [318.63455],\n",
       "       [277.35257],\n",
       "       [291.2032 ],\n",
       "       [287.3492 ],\n",
       "       [239.4901 ],\n",
       "       [244.55247],\n",
       "       [281.68246],\n",
       "       [234.1264 ],\n",
       "       [302.5207 ],\n",
       "       [316.28275],\n",
       "       [268.57565],\n",
       "       [300.83524],\n",
       "       [306.25143],\n",
       "       [249.42268],\n",
       "       [278.3944 ],\n",
       "       [287.11288],\n",
       "       [282.96188],\n",
       "       [280.4915 ],\n",
       "       [248.59354],\n",
       "       [247.17795],\n",
       "       [267.8198 ],\n",
       "       [319.1735 ],\n",
       "       [319.57437],\n",
       "       [259.76456],\n",
       "       [233.98776],\n",
       "       [305.13657],\n",
       "       [300.37177],\n",
       "       [276.80457],\n",
       "       [314.66623],\n",
       "       [290.9465 ],\n",
       "       [215.28986],\n",
       "       [264.24426],\n",
       "       [289.2709 ],\n",
       "       [240.4089 ],\n",
       "       [247.1007 ],\n",
       "       [249.37933],\n",
       "       [254.77417],\n",
       "       [259.5134 ],\n",
       "       [269.69534],\n",
       "       [262.48624],\n",
       "       [262.8336 ],\n",
       "       [260.7346 ],\n",
       "       [294.78098],\n",
       "       [292.14246],\n",
       "       [221.32574],\n",
       "       [257.80487],\n",
       "       [264.33835],\n",
       "       [211.92743],\n",
       "       [304.37094],\n",
       "       [296.107  ],\n",
       "       [250.23494],\n",
       "       [291.38892],\n",
       "       [266.1647 ],\n",
       "       [286.54324],\n",
       "       [251.03319],\n",
       "       [279.98032],\n",
       "       [277.3711 ],\n",
       "       [319.38205],\n",
       "       [316.71683],\n",
       "       [270.29663],\n",
       "       [306.05566],\n",
       "       [253.82748],\n",
       "       [243.29715],\n",
       "       [234.58864],\n",
       "       [305.435  ],\n",
       "       [262.5215 ],\n",
       "       [282.12253],\n",
       "       [258.9153 ],\n",
       "       [268.98865],\n",
       "       [288.70602],\n",
       "       [222.76785],\n",
       "       [218.54007],\n",
       "       [278.4667 ],\n",
       "       [271.56595],\n",
       "       [242.86504],\n",
       "       [300.12845],\n",
       "       [248.15782],\n",
       "       [271.82175],\n",
       "       [256.85135],\n",
       "       [252.95874],\n",
       "       [296.1804 ],\n",
       "       [288.09723],\n",
       "       [217.72845],\n",
       "       [295.2127 ],\n",
       "       [326.60947],\n",
       "       [264.09097],\n",
       "       [300.43317],\n",
       "       [248.96603],\n",
       "       [232.63373],\n",
       "       [257.98196],\n",
       "       [277.60437],\n",
       "       [286.9219 ],\n",
       "       [200.20181],\n",
       "       [258.5721 ],\n",
       "       [287.29907],\n",
       "       [257.59732],\n",
       "       [270.079  ],\n",
       "       [256.82498],\n",
       "       [220.90283],\n",
       "       [279.24487],\n",
       "       [340.3015 ],\n",
       "       [291.664  ],\n",
       "       [288.72485],\n",
       "       [268.5999 ],\n",
       "       [337.2424 ],\n",
       "       [251.14998],\n",
       "       [299.75986],\n",
       "       [220.05925],\n",
       "       [273.16446],\n",
       "       [272.30948],\n",
       "       [243.09885],\n",
       "       [283.21674],\n",
       "       [249.14131],\n",
       "       [331.99026],\n",
       "       [249.8018 ],\n",
       "       [281.1527 ],\n",
       "       [203.4017 ],\n",
       "       [257.83386],\n",
       "       [286.88785],\n",
       "       [242.53566],\n",
       "       [218.43156],\n",
       "       [273.98813],\n",
       "       [255.49216],\n",
       "       [279.54843],\n",
       "       [311.95425],\n",
       "       [264.4508 ],\n",
       "       [313.9907 ],\n",
       "       [284.845  ],\n",
       "       [274.52823],\n",
       "       [264.92648],\n",
       "       [274.37296],\n",
       "       [269.15768],\n",
       "       [255.02832],\n",
       "       [291.98032],\n",
       "       [283.33115],\n",
       "       [315.2881 ],\n",
       "       [276.04132],\n",
       "       [244.04443],\n",
       "       [224.5238 ],\n",
       "       [243.47835],\n",
       "       [271.7276 ],\n",
       "       [300.6102 ],\n",
       "       [223.37427],\n",
       "       [301.80087],\n",
       "       [220.3471 ],\n",
       "       [270.8953 ],\n",
       "       [289.9347 ],\n",
       "       [302.92465],\n",
       "       [228.72514],\n",
       "       [247.67805],\n",
       "       [247.51129],\n",
       "       [225.93233],\n",
       "       [291.06998],\n",
       "       [282.96564],\n",
       "       [223.25688],\n",
       "       [267.03848],\n",
       "       [244.11093],\n",
       "       [273.95575],\n",
       "       [254.62375],\n",
       "       [302.90823],\n",
       "       [264.16595],\n",
       "       [284.66904],\n",
       "       [285.7394 ],\n",
       "       [237.7    ],\n",
       "       [249.95563],\n",
       "       [220.94394],\n",
       "       [273.65042],\n",
       "       [270.62595],\n",
       "       [244.18755],\n",
       "       [224.95679],\n",
       "       [281.3079 ],\n",
       "       [262.34982],\n",
       "       [269.6857 ],\n",
       "       [261.1638 ],\n",
       "       [201.0565 ],\n",
       "       [246.16866],\n",
       "       [289.72934],\n",
       "       [250.81686],\n",
       "       [211.04903],\n",
       "       [223.38603],\n",
       "       [315.58383],\n",
       "       [267.12405],\n",
       "       [281.21994],\n",
       "       [253.46198],\n",
       "       [295.72488],\n",
       "       [285.54617],\n",
       "       [247.729  ],\n",
       "       [263.2629 ],\n",
       "       [292.15543],\n",
       "       [286.71402],\n",
       "       [276.45816],\n",
       "       [260.0925 ],\n",
       "       [264.0351 ],\n",
       "       [301.78128]], dtype=float32)"
      ]
     },
     "execution_count": 25,
     "metadata": {},
     "output_type": "execute_result"
    }
   ],
   "source": [
    "predictions = model.predict(X_test)\n",
    "predictions"
   ]
  },
  {
   "cell_type": "code",
   "execution_count": 26,
   "id": "b8fa220f-eea9-4699-b469-3e34d3e276e0",
   "metadata": {},
   "outputs": [
    {
     "data": {
      "image/png": "[encoded data removed]",
      "text/plain": [
       "<Figure size 640x480 with 1 Axes>"
      ]
     },
     "metadata": {},
     "output_type": "display_data"
    }
   ],
   "source": [
    "plt.scatter(y_test, predictions)\n",
    "plt.xlabel('True Energy Consumption')\n",
    "plt.ylabel('Predicted Ennergy Consumption')\n",
    "plt.title('Predicions vs True Values')\n",
    "plt.show()"
   ]
  }
 ],
 "metadata": {
  "kernelspec": {
   "display_name": "Python 3 (ipykernel)",
   "language": "python",
   "name": "python3"
  },
  "language_info": {
   "codemirror_mode": {
    "name": "ipython",
    "version": 3
   },
   "file_extension": ".py",
   "mimetype": "text/x-python",
   "name": "python",
   "nbconvert_exporter": "python",
   "pygments_lexer": "ipython3",
   "version": "3.12.7"
  }
 },
 "nbformat": 4,
 "nbformat_minor": 5
}
