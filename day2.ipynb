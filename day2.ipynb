{
 "cells": [
  {
   "cell_type": "code",
   "execution_count": 109,
   "id": "6455c726-0eab-489c-949e-311e51d22470",
   "metadata": {},
   "outputs": [
    {
     "name": "stdout",
     "output_type": "stream",
     "text": [
      "Hello!\n",
      "Glad to meet you\n"
     ]
    }
   ],
   "source": [
    "def hello():\n",
    "    \"\"\"This function says hello and greet you\"\"\"\n",
    "    print(\"Hello!\")\n",
    "    print(\"Glad to meet you\")\n",
    "hello()"
   ]
  },
  {
   "cell_type": "code",
   "execution_count": 111,
   "id": "8bb60fbd-4188-42ad-974b-b1cb0a32ec07",
   "metadata": {},
   "outputs": [
    {
     "name": "stdout",
     "output_type": "stream",
     "text": [
      "Square : 9\n"
     ]
    }
   ],
   "source": [
    "#Function defination\n",
    "def find_square(num):\n",
    "    result = num * num\n",
    "    return result\n",
    "#Function call\n",
    "square = find_square(3)\n",
    "print(\"Square :\", square)"
   ]
  },
  {
   "cell_type": "code",
   "execution_count": 113,
   "id": "56bb443f-5be0-4077-9074-5ffde268dd9d",
   "metadata": {},
   "outputs": [
    {
     "name": "stdout",
     "output_type": "stream",
     "text": [
      "15\n"
     ]
    }
   ],
   "source": [
    "#Lambda function\n",
    "x = lambda a : a + 10\n",
    "print(x(5))"
   ]
  },
  {
   "cell_type": "code",
   "execution_count": 115,
   "id": "4437faff-aa94-4036-8fdb-42f502208889",
   "metadata": {},
   "outputs": [],
   "source": [
    "def calculate_carbon_footprint(energy_consumption, emission_factor):\n",
    "    \"\"\"\n",
    "    This function calculates the carbon footprint based on energy consumption\n",
    "    (in kilowatt-hours) and the emission factor (in kg C02 per kWh).\n",
    "    \"\"\"\n",
    "    return energy_consumption * emission_factor"
   ]
  },
  {
   "cell_type": "code",
   "execution_count": 117,
   "id": "a270ebbf-a71b-4486-961e-52ed7abcef54",
   "metadata": {},
   "outputs": [
    {
     "name": "stdout",
     "output_type": "stream",
     "text": [
      "Carbon Footprint: 475.0 kg CO2\n"
     ]
    }
   ],
   "source": [
    "#ExampLe usage:\n",
    "energy_consumption = 1000\n",
    "emission_factor = 0.475\n",
    "# in kWh\n",
    "# kg CO2 per kwh\n",
    "carbon_footprint = calculate_carbon_footprint (energy_consumption, emission_factor)\n",
    "print (f\"Carbon Footprint: {carbon_footprint} kg CO2\")\n",
    "#This will calculate and print the carbon footprint for the given energy consumption and emission factor."
   ]
  },
  {
   "cell_type": "code",
   "execution_count": 119,
   "id": "2f13d21b-f0d3-490f-ba2d-6ecb081762dc",
   "metadata": {},
   "outputs": [
    {
     "name": "stdout",
     "output_type": "stream",
     "text": [
      "Sustainable Cities:\n",
      "City B\n",
      "City D\n"
     ]
    }
   ],
   "source": [
    "#List of cities with their carbon footprints in tons CO2 per month\n",
    "cities = [\n",
    "    {\"name\":\"City A\",\"carbon_footprint\":500},\n",
    "    {\"name\":\"City B\",\"carbon_footprint\":350},\n",
    "    {\"name\":\"City C\",\"carbon_footprint\":600},\n",
    "    {\"name\":\"City D\",\"carbon_footprint\":200},\n",
    "]\n",
    "\n",
    "#Lambda function to filter cities below the threshold (400 ton CO2)\n",
    "sustainability_threshold = 400\n",
    "sustainable_cities = list(filter(lambda city: city[\"carbon_footprint\"] < sustainability_threshold, cities))\n",
    "\n",
    "#Printing the filtered list of suitanable cities\n",
    "print(\"Sustainable Cities:\")\n",
    "for city in sustainable_cities:\n",
    "    print(city[\"name\"])"
   ]
  },
  {
   "cell_type": "code",
   "execution_count": 121,
   "id": "80b7c1d6-eac1-4f6f-9983-1ba381a80ade",
   "metadata": {},
   "outputs": [],
   "source": [
    "import pandas as pd\n",
    "# SampLe renewable energy sources data\n",
    "renewable_sources = [\"Solan\", \"Wind\", \"Hydropower\", \"Geothermal\", \"Biomass\"]\n",
    "# Sample green technology project data (for DataFrame)\n",
    "data = {\n",
    "    \"Project\": [\"Solar Farm A\", \"Wind Turbine X\", \"Hydropower Y\", \"Solar Roof I\", \"Geothermal Plant P\"],\n",
    "    \"Technology\": [\"Solar\", \"Wind\", \"Hydropower\", \"Solan\", \"Geothermal\"],\n",
    "    \"Capacity (MW)\": [150, 300, 200, 50, 100], # Megawatts\n",
    "    \"Cost (Million $)\": [200, 400, 350, 100, 250], # Project cost\n",
    "    \"Location\": [\"California\", \"Texas\", \"Washington\", \"Nevada\", \"Idaho\"],\n",
    "    \"Completion Year\": [2023, 2024, 2022, 2025, 2023]\n",
    "}"
   ]
  },
  {
   "cell_type": "code",
   "execution_count": 123,
   "id": "475b8d4f-ffb0-46a2-bb39-7816cf4b089f",
   "metadata": {},
   "outputs": [
    {
     "name": "stdout",
     "output_type": "stream",
     "text": [
      "Renewable energy sources\n",
      "0         Solan\n",
      "1          Wind\n",
      "2    Hydropower\n",
      "3    Geothermal\n",
      "4       Biomass\n",
      "dtype: object\n"
     ]
    }
   ],
   "source": [
    "#Create a pandas series for renewable energy source \n",
    "renewable_series = pd.Series(renewable_sources)\n",
    "#Print the series \n",
    "print(\"Renewable energy sources\")\n",
    "print(renewable_series)"
   ]
  },
  {
   "cell_type": "code",
   "execution_count": 125,
   "id": "d4f08e0b-27ac-4513-b6ca-a324bf17d5cc",
   "metadata": {},
   "outputs": [
    {
     "name": "stdout",
     "output_type": "stream",
     "text": [
      "\n",
      "Green Technology Projects Dataframe:\n",
      "              Project  Technology  Capacity (MW)  Cost (Million $)  \\\n",
      "0        Solar Farm A       Solar            150               200   \n",
      "1      Wind Turbine X        Wind            300               400   \n",
      "2        Hydropower Y  Hydropower            200               350   \n",
      "3        Solar Roof I       Solan             50               100   \n",
      "4  Geothermal Plant P  Geothermal            100               250   \n",
      "\n",
      "     Location  Completion Year  \n",
      "0  California             2023  \n",
      "1       Texas             2024  \n",
      "2  Washington             2022  \n",
      "3      Nevada             2025  \n",
      "4       Idaho             2023  \n"
     ]
    }
   ],
   "source": [
    "#Create a Dataframe for green technology projects \n",
    "projects_df = pd.DataFrame(data)\n",
    "#Print the dataframe \n",
    "print(\"\\nGreen Technology Projects Dataframe:\")\n",
    "print(projects_df)"
   ]
  },
  {
   "cell_type": "code",
   "execution_count": 127,
   "id": "5a64ce5a-610a-4feb-8fcb-c2eda8c91418",
   "metadata": {},
   "outputs": [
    {
     "data": {
      "text/html": [
       "<div>\n",
       "<style scoped>\n",
       "    .dataframe tbody tr th:only-of-type {\n",
       "        vertical-align: middle;\n",
       "    }\n",
       "\n",
       "    .dataframe tbody tr th {\n",
       "        vertical-align: top;\n",
       "    }\n",
       "\n",
       "    .dataframe thead th {\n",
       "        text-align: right;\n",
       "    }\n",
       "</style>\n",
       "<table border=\"1\" class=\"dataframe\">\n",
       "  <thead>\n",
       "    <tr style=\"text-align: right;\">\n",
       "      <th></th>\n",
       "      <th>Project</th>\n",
       "      <th>Technology</th>\n",
       "      <th>Capacity (MW)</th>\n",
       "      <th>Cost (Million $)</th>\n",
       "      <th>Location</th>\n",
       "      <th>Completion Year</th>\n",
       "    </tr>\n",
       "  </thead>\n",
       "  <tbody>\n",
       "    <tr>\n",
       "      <th>0</th>\n",
       "      <td>Solar Farm A</td>\n",
       "      <td>Solar</td>\n",
       "      <td>150</td>\n",
       "      <td>200</td>\n",
       "      <td>California</td>\n",
       "      <td>2023</td>\n",
       "    </tr>\n",
       "    <tr>\n",
       "      <th>1</th>\n",
       "      <td>Wind Turbine X</td>\n",
       "      <td>Wind</td>\n",
       "      <td>300</td>\n",
       "      <td>400</td>\n",
       "      <td>Texas</td>\n",
       "      <td>2024</td>\n",
       "    </tr>\n",
       "    <tr>\n",
       "      <th>2</th>\n",
       "      <td>Hydropower Y</td>\n",
       "      <td>Hydropower</td>\n",
       "      <td>200</td>\n",
       "      <td>350</td>\n",
       "      <td>Washington</td>\n",
       "      <td>2022</td>\n",
       "    </tr>\n",
       "    <tr>\n",
       "      <th>3</th>\n",
       "      <td>Solar Roof I</td>\n",
       "      <td>Solan</td>\n",
       "      <td>50</td>\n",
       "      <td>100</td>\n",
       "      <td>Nevada</td>\n",
       "      <td>2025</td>\n",
       "    </tr>\n",
       "    <tr>\n",
       "      <th>4</th>\n",
       "      <td>Geothermal Plant P</td>\n",
       "      <td>Geothermal</td>\n",
       "      <td>100</td>\n",
       "      <td>250</td>\n",
       "      <td>Idaho</td>\n",
       "      <td>2023</td>\n",
       "    </tr>\n",
       "  </tbody>\n",
       "</table>\n",
       "</div>"
      ],
      "text/plain": [
       "              Project  Technology  Capacity (MW)  Cost (Million $)  \\\n",
       "0        Solar Farm A       Solar            150               200   \n",
       "1      Wind Turbine X        Wind            300               400   \n",
       "2        Hydropower Y  Hydropower            200               350   \n",
       "3        Solar Roof I       Solan             50               100   \n",
       "4  Geothermal Plant P  Geothermal            100               250   \n",
       "\n",
       "     Location  Completion Year  \n",
       "0  California             2023  \n",
       "1       Texas             2024  \n",
       "2  Washington             2022  \n",
       "3      Nevada             2025  \n",
       "4       Idaho             2023  "
      ]
     },
     "execution_count": 127,
     "metadata": {},
     "output_type": "execute_result"
    }
   ],
   "source": [
    "projects_df.head()"
   ]
  },
  {
   "cell_type": "code",
   "execution_count": 129,
   "id": "8b89e6aa-adaa-45a3-9d7c-ac623fa683c3",
   "metadata": {},
   "outputs": [
    {
     "data": {
      "text/html": [
       "<div>\n",
       "<style scoped>\n",
       "    .dataframe tbody tr th:only-of-type {\n",
       "        vertical-align: middle;\n",
       "    }\n",
       "\n",
       "    .dataframe tbody tr th {\n",
       "        vertical-align: top;\n",
       "    }\n",
       "\n",
       "    .dataframe thead th {\n",
       "        text-align: right;\n",
       "    }\n",
       "</style>\n",
       "<table border=\"1\" class=\"dataframe\">\n",
       "  <thead>\n",
       "    <tr style=\"text-align: right;\">\n",
       "      <th></th>\n",
       "      <th>Project</th>\n",
       "      <th>Technology</th>\n",
       "      <th>Capacity (MW)</th>\n",
       "      <th>Cost (Million $)</th>\n",
       "      <th>Location</th>\n",
       "      <th>Completion Year</th>\n",
       "    </tr>\n",
       "  </thead>\n",
       "  <tbody>\n",
       "    <tr>\n",
       "      <th>0</th>\n",
       "      <td>Solar Farm A</td>\n",
       "      <td>Solar</td>\n",
       "      <td>150</td>\n",
       "      <td>200</td>\n",
       "      <td>California</td>\n",
       "      <td>2023</td>\n",
       "    </tr>\n",
       "    <tr>\n",
       "      <th>1</th>\n",
       "      <td>Wind Turbine X</td>\n",
       "      <td>Wind</td>\n",
       "      <td>300</td>\n",
       "      <td>400</td>\n",
       "      <td>Texas</td>\n",
       "      <td>2024</td>\n",
       "    </tr>\n",
       "    <tr>\n",
       "      <th>2</th>\n",
       "      <td>Hydropower Y</td>\n",
       "      <td>Hydropower</td>\n",
       "      <td>200</td>\n",
       "      <td>350</td>\n",
       "      <td>Washington</td>\n",
       "      <td>2022</td>\n",
       "    </tr>\n",
       "    <tr>\n",
       "      <th>3</th>\n",
       "      <td>Solar Roof I</td>\n",
       "      <td>Solan</td>\n",
       "      <td>50</td>\n",
       "      <td>100</td>\n",
       "      <td>Nevada</td>\n",
       "      <td>2025</td>\n",
       "    </tr>\n",
       "    <tr>\n",
       "      <th>4</th>\n",
       "      <td>Geothermal Plant P</td>\n",
       "      <td>Geothermal</td>\n",
       "      <td>100</td>\n",
       "      <td>250</td>\n",
       "      <td>Idaho</td>\n",
       "      <td>2023</td>\n",
       "    </tr>\n",
       "  </tbody>\n",
       "</table>\n",
       "</div>"
      ],
      "text/plain": [
       "              Project  Technology  Capacity (MW)  Cost (Million $)  \\\n",
       "0        Solar Farm A       Solar            150               200   \n",
       "1      Wind Turbine X        Wind            300               400   \n",
       "2        Hydropower Y  Hydropower            200               350   \n",
       "3        Solar Roof I       Solan             50               100   \n",
       "4  Geothermal Plant P  Geothermal            100               250   \n",
       "\n",
       "     Location  Completion Year  \n",
       "0  California             2023  \n",
       "1       Texas             2024  \n",
       "2  Washington             2022  \n",
       "3      Nevada             2025  \n",
       "4       Idaho             2023  "
      ]
     },
     "execution_count": 129,
     "metadata": {},
     "output_type": "execute_result"
    }
   ],
   "source": [
    "projects_df.tail()"
   ]
  },
  {
   "cell_type": "code",
   "execution_count": 131,
   "id": "29df0170-8c36-4d15-96ff-6be1c13c8fb1",
   "metadata": {},
   "outputs": [
    {
     "name": "stdout",
     "output_type": "stream",
     "text": [
      "\n",
      "List of Projects.\n",
      "0          Solar Farm A\n",
      "1        Wind Turbine X\n",
      "2          Hydropower Y\n",
      "3          Solar Roof I\n",
      "4    Geothermal Plant P\n",
      "Name: Project, dtype: object\n"
     ]
    }
   ],
   "source": [
    "#Acess the 'Project' column\n",
    "print(\"\\nList of Projects.\")\n",
    "print(projects_df[\"Project\"])"
   ]
  },
  {
   "cell_type": "code",
   "execution_count": 133,
   "id": "2fd3b430-c608-4522-970f-e32aa49696bc",
   "metadata": {},
   "outputs": [
    {
     "name": "stdout",
     "output_type": "stream",
     "text": [
      "\n",
      "List of Technology and Location.\n",
      "   Technology    Location\n",
      "0       Solar  California\n",
      "1        Wind       Texas\n",
      "2  Hydropower  Washington\n",
      "3       Solan      Nevada\n",
      "4  Geothermal       Idaho\n"
     ]
    }
   ],
   "source": [
    "print(\"\\nList of Technology and Location.\")\n",
    "print(projects_df[[\"Technology\", \"Location\"]])"
   ]
  },
  {
   "cell_type": "code",
   "execution_count": 135,
   "id": "9712b9f4-fbd1-47d1-b188-097f2cb194e2",
   "metadata": {},
   "outputs": [
    {
     "name": "stdout",
     "output_type": "stream",
     "text": [
      "\n",
      "Projects with capacity greater that 100 MW\n",
      "          Project  Technology  Capacity (MW)  Cost (Million $)    Location  \\\n",
      "0    Solar Farm A       Solar            150               200  California   \n",
      "1  Wind Turbine X        Wind            300               400       Texas   \n",
      "2    Hydropower Y  Hydropower            200               350  Washington   \n",
      "\n",
      "   Completion Year  \n",
      "0             2023  \n",
      "1             2024  \n",
      "2             2022  \n"
     ]
    }
   ],
   "source": [
    "#Filter projects with capacity graeter than 100%\n",
    "high_capacity_projects = projects_df[projects_df[\"Capacity (MW)\"] > 100 ]\n",
    "print(\"\\nProjects with capacity greater that 100 MW\")\n",
    "print(high_capacity_projects)"
   ]
  },
  {
   "cell_type": "code",
   "execution_count": 150,
   "id": "f2b8da91-9ad4-4462-9967-7a58b8a6cfdd",
   "metadata": {},
   "outputs": [
    {
     "name": "stdout",
     "output_type": "stream",
     "text": [
      "\n",
      "DataFrame with Cost per MW:\n",
      "              Project  Technology  Capacity (MW)  Cost (Million $)  \\\n",
      "0        Solar Farm A       Solar            150               200   \n",
      "1      Wind Turbine X        Wind            300               400   \n",
      "2        Hydropower Y  Hydropower            200               350   \n",
      "3        Solar Roof I       Solan             50               100   \n",
      "4  Geothermal Plant P  Geothermal            100               250   \n",
      "\n",
      "     Location  Completion Year  Cost per MW  \n",
      "0  California             2023     1.333333  \n",
      "1       Texas             2024     1.333333  \n",
      "2  Washington             2022     1.750000  \n",
      "3      Nevada             2025     2.000000  \n",
      "4       Idaho             2023     2.500000  \n"
     ]
    }
   ],
   "source": [
    "#Add new column for cost pr MW\n",
    "projects_df[\"Cost per MW\"] = projects_df[\"Cost (Million $)\"] / projects_df[\"Capacity (MW)\"]\n",
    "\n",
    "print(\"\\nDataFrame with Cost per MW:\")\n",
    "print(projects_df)"
   ]
  },
  {
   "cell_type": "code",
   "execution_count": 184,
   "id": "aaed574a-adcd-4039-ac3c-9e09a4608c5d",
   "metadata": {},
   "outputs": [
    {
     "name": "stdout",
     "output_type": "stream",
     "text": [
      "\n",
      "Total capacity of all projects: 800MW\n",
      "Total cost of all projects: 1300 million\n"
     ]
    }
   ],
   "source": [
    "#Aggregate the total capacity and cost\n",
    "total_capacity = projects_df[\"Capacity (MW)\"].sum()\n",
    "total_cost = projects_df[\"Cost (Million $)\"].sum()\n",
    "\n",
    "print(f\"\\nTotal capacity of all projects: {total_capacity}MW\")\n",
    "print(f\"Total cost of all projects: {total_cost} million\")"
   ]
  },
  {
   "cell_type": "code",
   "execution_count": 188,
   "id": "79621551-311d-4967-912a-09cfcd69c0f2",
   "metadata": {},
   "outputs": [
    {
     "name": "stdout",
     "output_type": "stream",
     "text": [
      "\n",
      "Total capacity by Technology.\n",
      "Technology\n",
      "Geothermal    100\n",
      "Hydropower    200\n",
      "Solan          50\n",
      "Solar         150\n",
      "Wind          300\n",
      "Name: Capacity (MW), dtype: int64\n"
     ]
    }
   ],
   "source": [
    "#Group by 'Technology' and calculate total capacity for each type \n",
    "grouped_data = projects_df.groupby(\"Technology\")[\"Capacity (MW)\"].sum()\n",
    "print(\"\\nTotal capacity by Technology.\")\n",
    "print(grouped_data)"
   ]
  },
  {
   "cell_type": "code",
   "execution_count": 192,
   "id": "b1facc89-2144-4fa1-8f38-fb85f3d715e0",
   "metadata": {},
   "outputs": [
    {
     "name": "stdout",
     "output_type": "stream",
     "text": [
      "[0 1 2 3]\n",
      "<class 'numpy.ndarray'>\n",
      "1\n",
      "(4,)\n",
      "4\n"
     ]
    }
   ],
   "source": [
    "import numpy as np\n",
    "a = np.array([0, 1, 2, 3]) #Create a rank 1 array\n",
    "print(a)                   #Print array a \n",
    "print(type(a))             #Print type of array a\n",
    "print(a.ndim)              #Dimension of array a \n",
    "print(a.shape)             #Shape(row,column) of array a \n",
    "print(len(a))              #Length of array a"
   ]
  },
  {
   "cell_type": "code",
   "execution_count": 194,
   "id": "f4d8305f-58d5-4f52-8bbc-286b2d1ae66e",
   "metadata": {},
   "outputs": [
    {
     "data": {
      "text/plain": [
       "array([[1, 2, 3],\n",
       "       [4, 5, 6],\n",
       "       [7, 8, 9]])"
      ]
     },
     "execution_count": 194,
     "metadata": {},
     "output_type": "execute_result"
    }
   ],
   "source": [
    "myList = [[1,2,3],[4,5,6],[7,8,9]]\n",
    "np.array(myList)"
   ]
  },
  {
   "cell_type": "code",
   "execution_count": 200,
   "id": "9b7a905c-8cfe-46af-9be5-8718b750546c",
   "metadata": {},
   "outputs": [
    {
     "data": {
      "text/plain": [
       "array([0.52358105, 0.42281599, 0.5851907 , 0.35499591])"
      ]
     },
     "execution_count": 200,
     "metadata": {},
     "output_type": "execute_result"
    }
   ],
   "source": [
    "np.random.rand(5) #Uniform distribution of \n",
    "np.random.rand(4,4) #Create 2D array of rand\n",
    "np.random.rand(4) #std. normal distribution"
   ]
  },
  {
   "cell_type": "code",
   "execution_count": 202,
   "id": "09bc5b1c-7880-4382-8c14-1b70e7911621",
   "metadata": {},
   "outputs": [
    {
     "name": "stdout",
     "output_type": "stream",
     "text": [
      "Energy Consumption (in MWh) for different renewable sources:\n",
      "[1200 3400 2900 1800 2500]\n"
     ]
    }
   ],
   "source": [
    "#Energy consumption in MWh for different renewable sources: Solar, Wind, Hydropower, Geothermal, Biomass\n",
    "energy_consumption = np.array([1200, 3400, 2900, 1800, 2500])\n",
    "\n",
    "#Print the array\n",
    "print(\"Energy Consumption (in MWh) for different renewable sources:\")\n",
    "print(energy_consumption)"
   ]
  },
  {
   "cell_type": "code",
   "execution_count": 204,
   "id": "a35606bc-03e9-431b-ba90-4cc44f5cf01c",
   "metadata": {},
   "outputs": [
    {
     "name": "stdout",
     "output_type": "stream",
     "text": [
      "\n",
      " Total energy Consumption: 11800 MWh\n"
     ]
    }
   ],
   "source": [
    "#Calculaate the total energy consumption \n",
    "total_consumption = np.sum(energy_consumption)\n",
    "print(f\"\\n Total energy Consumption: {total_consumption} MWh\")"
   ]
  },
  {
   "cell_type": "code",
   "execution_count": 214,
   "id": "ca3175c3-bec7-489c-98a4-fd1bbce929d9",
   "metadata": {},
   "outputs": [
    {
     "name": "stdout",
     "output_type": "stream",
     "text": [
      "\n",
      " Mean energy Consumption: 2360.00 MWh\n"
     ]
    }
   ],
   "source": [
    "#Calculate the mean energy consumption \n",
    "mean_consumption = np.mean(energy_consumption)\n",
    "print(f\"\\n Mean energy Consumption: {mean_consumption:.2f} MWh\")"
   ]
  },
  {
   "cell_type": "code",
   "execution_count": 216,
   "id": "8774b726-ee54-4a02-881f-952c82a8e104",
   "metadata": {},
   "outputs": [
    {
     "name": "stdout",
     "output_type": "stream",
     "text": [
      "\n",
      "Standard deviation of energy Consumption: 781.28 MWh\n"
     ]
    }
   ],
   "source": [
    "#Calculate the standard deviation of energy consumption \n",
    "std_deviation = np.std(energy_consumption)\n",
    "print(f\"\\nStandard deviation of energy Consumption: {std_deviation:.2f} MWh\")"
   ]
  },
  {
   "cell_type": "code",
   "execution_count": 218,
   "id": "dfb8e10d-4c8c-4faa-9732-f9946f3da11f",
   "metadata": {},
   "outputs": [
    {
     "name": "stdout",
     "output_type": "stream",
     "text": [
      "\n",
      "Reshaped energy Consumption Array: (5x1)\n",
      "[[1200]\n",
      " [3400]\n",
      " [2900]\n",
      " [1800]\n",
      " [2500]]\n"
     ]
    }
   ],
   "source": [
    "#Reshape the array (to 5 rowa and 1 column)\n",
    "reshaped_array = energy_consumption.reshape((5,1))\n",
    "print(f\"\\nReshaped energy Consumption Array: (5x1)\")\n",
    "print(reshaped_array)"
   ]
  },
  {
   "cell_type": "code",
   "execution_count": 220,
   "id": "210130ab-4ae8-46a5-890c-432c30b773fb",
   "metadata": {},
   "outputs": [
    {
     "name": "stdout",
     "output_type": "stream",
     "text": [
      "Original Energy data with missing values: \n",
      "  Energy source  Energy Consumption (MWh)  Cost (Million $)\n",
      "0         Solar                    1200.0             200.0\n",
      "1          wind                       NaN             400.0\n",
      "2    Hydropower                    2900.0               NaN\n",
      "3    Geothermal                       NaN             150.0\n",
      "4        Biomas                    2500.0             250.0\n",
      "5       Nuclear                    3200.0               NaN\n"
     ]
    }
   ],
   "source": [
    "#Sample data with missing values \n",
    "data = {\n",
    "    \"Energy source\": [\"Solar\", \"wind\", \"Hydropower\", \"Geothermal\", \"Biomas\", \"Nuclear\"],\n",
    "    \"Energy Consumption (MWh)\": [1200, np.nan, 2900, np.nan, 2500, 3200],\n",
    "    \"Cost (Million $)\": [200, 400, np.nan, 150, 250, np.nan]\n",
    "}\n",
    "#Create a DataFrame \n",
    "energy_df = pd.DataFrame(data)\n",
    "\n",
    "print(\"Original Energy data with missing values: \")\n",
    "print(energy_df)"
   ]
  },
  {
   "cell_type": "code",
   "execution_count": 222,
   "id": "09731e06-c33b-4348-9dc6-aaad369c3611",
   "metadata": {},
   "outputs": [
    {
     "data": {
      "text/plain": [
       "Energy source               0\n",
       "Energy Consumption (MWh)    2\n",
       "Cost (Million $)            2\n",
       "dtype: int64"
      ]
     },
     "execution_count": 222,
     "metadata": {},
     "output_type": "execute_result"
    }
   ],
   "source": [
    "energy_df.isnull().sum()"
   ]
  },
  {
   "cell_type": "code",
   "execution_count": 224,
   "id": "f5307d7a-502f-43fc-912b-da7dd6d9025c",
   "metadata": {},
   "outputs": [
    {
     "data": {
      "text/plain": [
       "4"
      ]
     },
     "execution_count": 224,
     "metadata": {},
     "output_type": "execute_result"
    }
   ],
   "source": [
    "energy_df.isnull().sum().sum()"
   ]
  },
  {
   "cell_type": "code",
   "execution_count": 226,
   "id": "868f8637-b271-4e88-b8d1-cb8df76e95d6",
   "metadata": {},
   "outputs": [
    {
     "name": "stdout",
     "output_type": "stream",
     "text": [
      "\n",
      "Data after removing rows with missing values :\n",
      "  Energy source  Energy Consumption (MWh)  Cost (Million $)\n",
      "0         Solar                    1200.0             200.0\n",
      "4        Biomas                    2500.0             250.0\n"
     ]
    }
   ],
   "source": [
    "#Remove rows with any missing values \n",
    "cleaned_df = energy_df.dropna()\n",
    "print(\"\\nData after removing rows with missing values :\")\n",
    "print(cleaned_df)"
   ]
  },
  {
   "cell_type": "code",
   "execution_count": 228,
   "id": "4d95d748-30c7-41a2-a888-0fe84c7f2900",
   "metadata": {},
   "outputs": [
    {
     "name": "stdout",
     "output_type": "stream",
     "text": [
      "\n",
      "Data After Imputing Missing values with mean:\n",
      "  Energy source  Energy Consumption (MWh)  Cost (Million $)\n",
      "0         Solar                    1200.0             200.0\n",
      "1          wind                    2450.0             400.0\n",
      "2    Hydropower                    2900.0             250.0\n",
      "3    Geothermal                    2450.0             150.0\n",
      "4        Biomas                    2500.0             250.0\n",
      "5       Nuclear                    3200.0             250.0\n"
     ]
    },
    {
     "name": "stderr",
     "output_type": "stream",
     "text": [
      "/var/folders/dh/vkcttlgn1xv6fjp2f1w7kdm80000gn/T/ipykernel_72265/3855679533.py:2: FutureWarning: A value is trying to be set on a copy of a DataFrame or Series through chained assignment using an inplace method.\n",
      "The behavior will change in pandas 3.0. This inplace method will never work because the intermediate object on which we are setting values always behaves as a copy.\n",
      "\n",
      "For example, when doing 'df[col].method(value, inplace=True)', try using 'df.method({col: value}, inplace=True)' or df[col] = df[col].method(value) instead, to perform the operation inplace on the original object.\n",
      "\n",
      "\n",
      "  energy_df[\"Energy Consumption (MWh)\"].fillna(energy_df[\"Energy Consumption (MWh)\"].mean(), inplace=True)\n",
      "/var/folders/dh/vkcttlgn1xv6fjp2f1w7kdm80000gn/T/ipykernel_72265/3855679533.py:5: FutureWarning: A value is trying to be set on a copy of a DataFrame or Series through chained assignment using an inplace method.\n",
      "The behavior will change in pandas 3.0. This inplace method will never work because the intermediate object on which we are setting values always behaves as a copy.\n",
      "\n",
      "For example, when doing 'df[col].method(value, inplace=True)', try using 'df.method({col: value}, inplace=True)' or df[col] = df[col].method(value) instead, to perform the operation inplace on the original object.\n",
      "\n",
      "\n",
      "  energy_df[\"Cost (Million $)\"].fillna(energy_df[\"Cost (Million $)\"].mean(), inplace=True)\n"
     ]
    }
   ],
   "source": [
    "#Impute missing values in 'Energy Consumption (MWh)' with the mean\n",
    "energy_df[\"Energy Consumption (MWh)\"].fillna(energy_df[\"Energy Consumption (MWh)\"].mean(), inplace=True)\n",
    "\n",
    "#Impute missing values in 'Cost (Million $)' with the mean\n",
    "energy_df[\"Cost (Million $)\"].fillna(energy_df[\"Cost (Million $)\"].mean(), inplace=True)\n",
    "\n",
    "print(\"\\nData After Imputing Missing values with mean:\")\n",
    "print(energy_df)"
   ]
  },
  {
   "cell_type": "code",
   "execution_count": 232,
   "id": "2208b7b6-2e54-43e5-8c96-32a674017fae",
   "metadata": {},
   "outputs": [
    {
     "name": "stdout",
     "output_type": "stream",
     "text": [
      "\n",
      "Data after forward filling: \n",
      "  Energy source  Energy Consumption (MWh)  Cost (Million $)\n",
      "0         Solar                    1200.0             200.0\n",
      "1          wind                    2450.0             400.0\n",
      "2    Hydropower                    2900.0             250.0\n",
      "3    Geothermal                    2450.0             150.0\n",
      "4        Biomas                    2500.0             250.0\n",
      "5       Nuclear                    3200.0             250.0\n"
     ]
    },
    {
     "name": "stderr",
     "output_type": "stream",
     "text": [
      "/var/folders/dh/vkcttlgn1xv6fjp2f1w7kdm80000gn/T/ipykernel_72265/1480210650.py:2: FutureWarning: DataFrame.fillna with 'method' is deprecated and will raise in a future version. Use obj.ffill() or obj.bfill() instead.\n",
      "  forward_filled_df = energy_df.fillna(method=\"ffill\")\n"
     ]
    }
   ],
   "source": [
    "#Forward fill missing values \n",
    "forward_filled_df = energy_df.fillna(method=\"ffill\")\n",
    "print(\"\\nData after forward filling: \")\n",
    "print(forward_filled_df)"
   ]
  },
  {
   "cell_type": "code",
   "execution_count": 246,
   "id": "0d5d3b9b-1fb2-409e-a0bc-6fb0c8abb695",
   "metadata": {},
   "outputs": [
    {
     "name": "stdout",
     "output_type": "stream",
     "text": [
      "\n",
      "Data With Missing Values Flagged:\n",
      "  Energy source  Energy Consumption (MWh)  Cost (Million $)  \\\n",
      "0         Solar                    1200.0             200.0   \n",
      "1          wind                    2450.0             400.0   \n",
      "2    Hydropower                    2900.0             250.0   \n",
      "3    Geothermal                    2450.0             150.0   \n",
      "4        Biomas                    2500.0             250.0   \n",
      "5       Nuclear                    3200.0             250.0   \n",
      "\n",
      "   Missing Consumption  \n",
      "0                    0  \n",
      "1                    0  \n",
      "2                    0  \n",
      "3                    0  \n",
      "4                    0  \n",
      "5                    0  \n"
     ]
    }
   ],
   "source": [
    "#create a flag column indicating missing values in 'Energy consumption (MWh)'\n",
    "energy_df[\"Missing Consumption\"] = energy_df[\"Energy Consumption (MWh)\"].isna().astype(int)\n",
    "print(\"\\nData With Missing Values Flagged:\")\n",
    "print(energy_df)"
   ]
  },
  {
   "cell_type": "code",
   "execution_count": 250,
   "id": "f301b60c-f676-47ca-ae40-8b8bde43ff77",
   "metadata": {},
   "outputs": [
    {
     "name": "stdout",
     "output_type": "stream",
     "text": [
      "\n",
      "Data after normalization (Min-Max Scaling):\n",
      "  Energy source  Energy Consumption (MWh)  Cost (Million $)  \\\n",
      "0         Solar                     0.000               0.2   \n",
      "1          wind                     0.625               1.0   \n",
      "2    Hydropower                     0.850               0.4   \n",
      "3    Geothermal                     0.625               0.0   \n",
      "4        Biomas                     0.650               0.4   \n",
      "5       Nuclear                     1.000               0.4   \n",
      "\n",
      "   Missing Consumption  \n",
      "0                    0  \n",
      "1                    0  \n",
      "2                    0  \n",
      "3                    0  \n",
      "4                    0  \n",
      "5                    0  \n"
     ]
    }
   ],
   "source": [
    "from sklearn.preprocessing import MinMaxScaler\n",
    "\n",
    "#Normalize the 'Energy Consumption (MWh)' and 'Cost (Million $)'\n",
    "scaler = MinMaxScaler()\n",
    "energy_df[[\"Energy Consumption (MWh)\", \"Cost (Million $)\"]] = scaler.fit_transform(\n",
    "    energy_df[[\"Energy Consumption (MWh)\", \"Cost (Million $)\"]]\n",
    ")\n",
    "\n",
    "print(\"\\nData after normalization (Min-Max Scaling):\")\n",
    "print(energy_df)"
   ]
  },
  {
   "cell_type": "code",
   "execution_count": 254,
   "id": "2206a7c9-849f-434e-99e1-b080eae4bad5",
   "metadata": {},
   "outputs": [
    {
     "name": "stdout",
     "output_type": "stream",
     "text": [
      "\n",
      "Data After Standardization (Z-score Scaling):\n",
      "  Energy source  Energy Consumption (MWh)  Cost (Million $)  \\\n",
      "0         Solar             -2.005893e+00     -6.546537e-01   \n",
      "1          wind              3.563181e-16      1.963961e+00   \n",
      "2    Hydropower              7.221213e-01      1.817029e-16   \n",
      "3    Geothermal              3.563181e-16     -1.309307e+00   \n",
      "4        Biomas              8.023570e-02      1.817029e-16   \n",
      "5       Nuclear              1.203536e+00      1.817029e-16   \n",
      "\n",
      "   Missing Consumption  \n",
      "0                    0  \n",
      "1                    0  \n",
      "2                    0  \n",
      "3                    0  \n",
      "4                    0  \n",
      "5                    0  \n"
     ]
    }
   ],
   "source": [
    "from sklearn.preprocessing import StandardScaler\n",
    "\n",
    "# Standardize the 'Energy Consumption (MWh)' and 'Cost (Million $)'\n",
    "\n",
    "scaler = StandardScaler()\n",
    "\n",
    "energy_df[[\"Energy Consumption (MWh)\", \"Cost (Million $)\"]] = scaler.fit_transform(\n",
    "\n",
    "energy_df[[\"Energy Consumption (MWh)\", \"Cost (Million $)\"]] )\n",
    "\n",
    "print(\"\\nData After Standardization (Z-score Scaling):\")\n",
    "\n",
    "print(energy_df)"
   ]
  },
  {
   "cell_type": "code",
   "execution_count": 284,
   "id": "2fc15837-96d8-4f51-8bcd-beaaea61caae",
   "metadata": {},
   "outputs": [
    {
     "ename": "KeyError",
     "evalue": "\"None of [Index(['Energy Source'], dtype='object')] are in the [columns]\"",
     "output_type": "error",
     "traceback": [
      "\u001b[0;31m---------------------------------------------------------------------------\u001b[0m",
      "\u001b[0;31mKeyError\u001b[0m                                  Traceback (most recent call last)",
      "Cell \u001b[0;32mIn[284], line 2\u001b[0m\n\u001b[1;32m      1\u001b[0m \u001b[38;5;66;03m#One-hot encode the 'Energy Source' column\u001b[39;00m\n\u001b[0;32m----> 2\u001b[0m energy_encoded_df \u001b[38;5;241m=\u001b[39m pd\u001b[38;5;241m.\u001b[39mget_dummies(energy_df, columns\u001b[38;5;241m=\u001b[39m[\u001b[38;5;124m\"\u001b[39m\u001b[38;5;124mEnergy Source\u001b[39m\u001b[38;5;124m\"\u001b[39m])\n\u001b[1;32m      3\u001b[0m \u001b[38;5;28mprint\u001b[39m(\u001b[38;5;124m\"\u001b[39m\u001b[38;5;130;01m\\n\u001b[39;00m\u001b[38;5;124mData after one-hot encoding categorical variables:\u001b[39m\u001b[38;5;124m\"\u001b[39m)\n\u001b[1;32m      4\u001b[0m \u001b[38;5;28mprint\u001b[39m(energy_encoded_df)\n",
      "File \u001b[0;32m/opt/anaconda3/lib/python3.12/site-packages/pandas/core/reshape/encoding.py:169\u001b[0m, in \u001b[0;36mget_dummies\u001b[0;34m(data, prefix, prefix_sep, dummy_na, columns, sparse, drop_first, dtype)\u001b[0m\n\u001b[1;32m    167\u001b[0m     \u001b[38;5;28;01mraise\u001b[39;00m \u001b[38;5;167;01mTypeError\u001b[39;00m(\u001b[38;5;124m\"\u001b[39m\u001b[38;5;124mInput must be a list-like for parameter `columns`\u001b[39m\u001b[38;5;124m\"\u001b[39m)\n\u001b[1;32m    168\u001b[0m \u001b[38;5;28;01melse\u001b[39;00m:\n\u001b[0;32m--> 169\u001b[0m     data_to_encode \u001b[38;5;241m=\u001b[39m data[columns]\n\u001b[1;32m    171\u001b[0m \u001b[38;5;66;03m# validate prefixes and separator to avoid silently dropping cols\u001b[39;00m\n\u001b[1;32m    172\u001b[0m \u001b[38;5;28;01mdef\u001b[39;00m \u001b[38;5;21mcheck_len\u001b[39m(item, name: \u001b[38;5;28mstr\u001b[39m):\n",
      "File \u001b[0;32m/opt/anaconda3/lib/python3.12/site-packages/pandas/core/frame.py:4108\u001b[0m, in \u001b[0;36mDataFrame.__getitem__\u001b[0;34m(self, key)\u001b[0m\n\u001b[1;32m   4106\u001b[0m     \u001b[38;5;28;01mif\u001b[39;00m is_iterator(key):\n\u001b[1;32m   4107\u001b[0m         key \u001b[38;5;241m=\u001b[39m \u001b[38;5;28mlist\u001b[39m(key)\n\u001b[0;32m-> 4108\u001b[0m     indexer \u001b[38;5;241m=\u001b[39m \u001b[38;5;28mself\u001b[39m\u001b[38;5;241m.\u001b[39mcolumns\u001b[38;5;241m.\u001b[39m_get_indexer_strict(key, \u001b[38;5;124m\"\u001b[39m\u001b[38;5;124mcolumns\u001b[39m\u001b[38;5;124m\"\u001b[39m)[\u001b[38;5;241m1\u001b[39m]\n\u001b[1;32m   4110\u001b[0m \u001b[38;5;66;03m# take() does not accept boolean indexers\u001b[39;00m\n\u001b[1;32m   4111\u001b[0m \u001b[38;5;28;01mif\u001b[39;00m \u001b[38;5;28mgetattr\u001b[39m(indexer, \u001b[38;5;124m\"\u001b[39m\u001b[38;5;124mdtype\u001b[39m\u001b[38;5;124m\"\u001b[39m, \u001b[38;5;28;01mNone\u001b[39;00m) \u001b[38;5;241m==\u001b[39m \u001b[38;5;28mbool\u001b[39m:\n",
      "File \u001b[0;32m/opt/anaconda3/lib/python3.12/site-packages/pandas/core/indexes/base.py:6200\u001b[0m, in \u001b[0;36mIndex._get_indexer_strict\u001b[0;34m(self, key, axis_name)\u001b[0m\n\u001b[1;32m   6197\u001b[0m \u001b[38;5;28;01melse\u001b[39;00m:\n\u001b[1;32m   6198\u001b[0m     keyarr, indexer, new_indexer \u001b[38;5;241m=\u001b[39m \u001b[38;5;28mself\u001b[39m\u001b[38;5;241m.\u001b[39m_reindex_non_unique(keyarr)\n\u001b[0;32m-> 6200\u001b[0m \u001b[38;5;28mself\u001b[39m\u001b[38;5;241m.\u001b[39m_raise_if_missing(keyarr, indexer, axis_name)\n\u001b[1;32m   6202\u001b[0m keyarr \u001b[38;5;241m=\u001b[39m \u001b[38;5;28mself\u001b[39m\u001b[38;5;241m.\u001b[39mtake(indexer)\n\u001b[1;32m   6203\u001b[0m \u001b[38;5;28;01mif\u001b[39;00m \u001b[38;5;28misinstance\u001b[39m(key, Index):\n\u001b[1;32m   6204\u001b[0m     \u001b[38;5;66;03m# GH 42790 - Preserve name from an Index\u001b[39;00m\n",
      "File \u001b[0;32m/opt/anaconda3/lib/python3.12/site-packages/pandas/core/indexes/base.py:6249\u001b[0m, in \u001b[0;36mIndex._raise_if_missing\u001b[0;34m(self, key, indexer, axis_name)\u001b[0m\n\u001b[1;32m   6247\u001b[0m \u001b[38;5;28;01mif\u001b[39;00m nmissing:\n\u001b[1;32m   6248\u001b[0m     \u001b[38;5;28;01mif\u001b[39;00m nmissing \u001b[38;5;241m==\u001b[39m \u001b[38;5;28mlen\u001b[39m(indexer):\n\u001b[0;32m-> 6249\u001b[0m         \u001b[38;5;28;01mraise\u001b[39;00m \u001b[38;5;167;01mKeyError\u001b[39;00m(\u001b[38;5;124mf\u001b[39m\u001b[38;5;124m\"\u001b[39m\u001b[38;5;124mNone of [\u001b[39m\u001b[38;5;132;01m{\u001b[39;00mkey\u001b[38;5;132;01m}\u001b[39;00m\u001b[38;5;124m] are in the [\u001b[39m\u001b[38;5;132;01m{\u001b[39;00maxis_name\u001b[38;5;132;01m}\u001b[39;00m\u001b[38;5;124m]\u001b[39m\u001b[38;5;124m\"\u001b[39m)\n\u001b[1;32m   6251\u001b[0m     not_found \u001b[38;5;241m=\u001b[39m \u001b[38;5;28mlist\u001b[39m(ensure_index(key)[missing_mask\u001b[38;5;241m.\u001b[39mnonzero()[\u001b[38;5;241m0\u001b[39m]]\u001b[38;5;241m.\u001b[39munique())\n\u001b[1;32m   6252\u001b[0m     \u001b[38;5;28;01mraise\u001b[39;00m \u001b[38;5;167;01mKeyError\u001b[39;00m(\u001b[38;5;124mf\u001b[39m\u001b[38;5;124m\"\u001b[39m\u001b[38;5;132;01m{\u001b[39;00mnot_found\u001b[38;5;132;01m}\u001b[39;00m\u001b[38;5;124m not in index\u001b[39m\u001b[38;5;124m\"\u001b[39m)\n",
      "\u001b[0;31mKeyError\u001b[0m: \"None of [Index(['Energy Source'], dtype='object')] are in the [columns]\""
     ]
    }
   ],
   "source": [
    "#One-hot encode the 'Energy Source' column\n",
    "energy_encoded_df = pd.get_dummies(energy_df, columns=[\"Energy Source\"])\n",
    "print(\"\\nData after one-hot encoding categorical variables:\")\n",
    "print(energy_encoded_df)"
   ]
  },
  {
   "cell_type": "code",
   "execution_count": 282,
   "id": "9a7f2ee1-0e52-42e9-a169-bc63d7ecf0cb",
   "metadata": {},
   "outputs": [
    {
     "ename": "NameError",
     "evalue": "name 'energy_encoded_df' is not defined",
     "output_type": "error",
     "traceback": [
      "\u001b[0;31m---------------------------------------------------------------------------\u001b[0m",
      "\u001b[0;31mNameError\u001b[0m                                 Traceback (most recent call last)",
      "Cell \u001b[0;32mIn[282], line 2\u001b[0m\n\u001b[1;32m      1\u001b[0m \u001b[38;5;66;03m#Create a new feature: Energy Consumption per Million $\u001b[39;00m\n\u001b[0;32m----> 2\u001b[0m energy_encoded_df[\u001b[38;5;124m\"\u001b[39m\u001b[38;5;124mConsumption per $Million\u001b[39m\u001b[38;5;124m\"\u001b[39m] \u001b[38;5;241m=\u001b[39m energy_encoded_df[\u001b[38;5;124m\"\u001b[39m\u001b[38;5;124mEnergy Consumption (MWh)\u001b[39m\u001b[38;5;124m\"\u001b[39m] \u001b[38;5;241m/\u001b[39m energy_encoded_df[\u001b[38;5;124m\"\u001b[39m\u001b[38;5;124mCost (Million $)\u001b[39m\u001b[38;5;124m\"\u001b[39m]\n\u001b[1;32m      4\u001b[0m \u001b[38;5;28mprint\u001b[39m(\u001b[38;5;124m\"\u001b[39m\u001b[38;5;130;01m\\n\u001b[39;00m\u001b[38;5;124mData with new feature(consumption per $million):\u001b[39m\u001b[38;5;124m\"\u001b[39m)\n\u001b[1;32m      5\u001b[0m \u001b[38;5;28mprint\u001b[39m(energy_encoded_df)\n",
      "\u001b[0;31mNameError\u001b[0m: name 'energy_encoded_df' is not defined"
     ]
    }
   ],
   "source": [
    "#Create a new feature: Energy Consumption per Million $\n",
    "energy_encoded_df[\"Consumption per $Million\"] = energy_encoded_df[\"Energy Consumption (MWh)\"] / energy_encoded_df[\"Cost (Million $)\"]\n",
    "\n",
    "print(\"\\nData with new feature(consumption per $million):\")\n",
    "print(energy_encoded_df)"
   ]
  },
  {
   "cell_type": "code",
   "execution_count": null,
   "id": "daf3e5f2-bc99-4809-bc7e-f1911ac747c3",
   "metadata": {},
   "outputs": [],
   "source": []
  }
 ],
 "metadata": {
  "kernelspec": {
   "display_name": "Python 3 (ipykernel)",
   "language": "python",
   "name": "python3"
  },
  "language_info": {
   "codemirror_mode": {
    "name": "ipython",
    "version": 3
   },
   "file_extension": ".py",
   "mimetype": "text/x-python",
   "name": "python",
   "nbconvert_exporter": "python",
   "pygments_lexer": "ipython3",
   "version": "3.12.7"
  }
 },
 "nbformat": 4,
 "nbformat_minor": 5
}
