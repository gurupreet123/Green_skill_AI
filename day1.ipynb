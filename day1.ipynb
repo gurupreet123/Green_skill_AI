{
 "cells": [
  {
   "cell_type": "code",
   "execution_count": 8,
   "id": "d78b4ced-4011-449a-a949-00cdf14a4358",
   "metadata": {},
   "outputs": [
    {
     "name": "stdout",
     "output_type": "stream",
     "text": [
      "Hello Stechies\n",
      "Hello Stechies\n"
     ]
    }
   ],
   "source": [
    "# single line command\n",
    "print('Hello Stechies')\n",
    "'''\n",
    "python program to explain \n",
    "multiple line command\n",
    "print('Hello')\n",
    "'''\n",
    "\n",
    "\"\"\"\n",
    "python program to explain\n",
    "multiple line command\n",
    "print('Hello')\n",
    "\"\"\"\n",
    "print('Hello Stechies')"
   ]
  },
  {
   "cell_type": "code",
   "execution_count": 20,
   "id": "cf635e9e-9081-443c-8b3f-105907811fda",
   "metadata": {},
   "outputs": [
    {
     "name": "stdout",
     "output_type": "stream",
     "text": [
      "1 2 3\n",
      "4 5 6\n"
     ]
    }
   ],
   "source": [
    "#Multiple assignments in one line \n",
    "x, y, z = 1, 2, 3\n",
    "\n",
    "#Unpacking \n",
    "numbers = (4, 5, 6)\n",
    "a, b, c = numbers\n",
    "print(x, y, z)\n",
    "print(a, b, c)"
   ]
  },
  {
   "cell_type": "code",
   "execution_count": 22,
   "id": "6fef97a0-de52-41dd-9984-edd4201fd179",
   "metadata": {},
   "outputs": [
    {
     "name": "stdout",
     "output_type": "stream",
     "text": [
      "Type of a :  <class 'int'>\n",
      "\n",
      "Type of b :  <class 'float'>\n",
      "\n",
      "Type of c :  <class 'complex'>\n"
     ]
    }
   ],
   "source": [
    "a = 5\n",
    "print(\"Type of a : \", type(a))\n",
    "b = 5.0\n",
    "print(\"\\nType of b : \", type(b))\n",
    "c = 2 + 4j\n",
    "print(\"\\nType of c : \", type(c))"
   ]
  },
  {
   "cell_type": "code",
   "execution_count": 45,
   "id": "e3fb9349-0168-4671-8d1a-b9f6706cd36b",
   "metadata": {},
   "outputs": [
    {
     "name": "stdout",
     "output_type": "stream",
     "text": [
      "<class 'bool'>\n",
      "<class 'bool'>\n"
     ]
    }
   ],
   "source": [
    "# Boolean datatypes \n",
    "print(type(True))\n",
    "print(type(False))\n",
    "# print(type(true)) #gives error as it is written as true"
   ]
  },
  {
   "cell_type": "code",
   "execution_count": 35,
   "id": "a42a9eab-9c06-46d1-87b4-ccc6b75feeac",
   "metadata": {},
   "outputs": [
    {
     "name": "stdout",
     "output_type": "stream",
     "text": [
      "5.0\n",
      "5\n",
      "1099511627776\n"
     ]
    }
   ],
   "source": [
    "a = 20\n",
    "b = 4\n",
    "c = a / b #division\n",
    "d = a //b #floor division gives int values \n",
    "print(c)\n",
    "print(d)\n",
    "print(b**a)"
   ]
  },
  {
   "cell_type": "code",
   "execution_count": 37,
   "id": "ed9ba134-b3f2-4bf4-8871-5690158bada2",
   "metadata": {},
   "outputs": [
    {
     "name": "stdin",
     "output_type": "stream",
     "text": [
      "Enter your name : gurupreet\n"
     ]
    }
   ],
   "source": [
    "# Take user input using \"input\" function\n",
    "name = input(\"Enter your name :\")"
   ]
  },
  {
   "cell_type": "code",
   "execution_count": 43,
   "id": "2f1a658b-dac5-4476-ace6-2a8659544d9d",
   "metadata": {},
   "outputs": [
    {
     "name": "stdout",
     "output_type": "stream",
     "text": [
      "Hello World!\n"
     ]
    }
   ],
   "source": [
    "# Example of using print to display a message \n",
    "print(\"Hello World!\")"
   ]
  },
  {
   "cell_type": "code",
   "execution_count": 49,
   "id": "8b604827-fc1d-4d9c-93c4-a739c2378524",
   "metadata": {},
   "outputs": [
    {
     "name": "stdout",
     "output_type": "stream",
     "text": [
      "City Name : City A\n"
     ]
    }
   ],
   "source": [
    "#Create a string variable \n",
    "city_name = \"City A\"\n",
    "#Print the value of the string variable \n",
    "print(f\"City Name : {city_name}\")"
   ]
  },
  {
   "cell_type": "code",
   "execution_count": 75,
   "id": "e0fe27f7-2d8b-4488-b34c-dac91756d87a",
   "metadata": {},
   "outputs": [
    {
     "name": "stdout",
     "output_type": "stream",
     "text": [
      "The temperature is 25°C\n"
     ]
    }
   ],
   "source": [
    "# Create an integer variable for temperature\n",
    "temperature = 25\n",
    "# Print the temperature in degrees Celsius\n",
    "print(f\"The temperature is {temperature}°C\")"
   ]
  },
  {
   "cell_type": "code",
   "execution_count": 77,
   "id": "cefb439e-abb4-429d-ba42-6754559de38c",
   "metadata": {},
   "outputs": [
    {
     "name": "stdout",
     "output_type": "stream",
     "text": [
      "Carbon Footprint : 500.75 kg CO2\n"
     ]
    }
   ],
   "source": [
    "#Create a float variable for carbon footprint \n",
    "carbon_footprint = 500.75  #kg CO2\n",
    "#Print the value of the float variable \n",
    "print(f\"Carbon Footprint : {carbon_footprint} kg CO2\")"
   ]
  },
  {
   "cell_type": "code",
   "execution_count": 79,
   "id": "78a225e5-78a5-410e-88e8-cf913e1d3bb2",
   "metadata": {},
   "outputs": [
    {
     "name": "stdout",
     "output_type": "stream",
     "text": [
      "Is the city sustainable ? False\n"
     ]
    }
   ],
   "source": [
    "#Create a boolean variable to indicate the city is sustainable \n",
    "is_sustainable = carbon_footprint < 400\n",
    "#print the value of boolean variable \n",
    "print(f\"Is the city sustainable ? {is_sustainable}\")"
   ]
  },
  {
   "cell_type": "code",
   "execution_count": 81,
   "id": "5b25369e-3f70-4b97-a99d-225f6845ef93",
   "metadata": {},
   "outputs": [
    {
     "name": "stdout",
     "output_type": "stream",
     "text": [
      "Weekly temperature: [25, 27, 28, 26, 26, 30, 29]\n"
     ]
    }
   ],
   "source": [
    "#List variable \n",
    "weekly_temperature = [25, 27, 28, 26, 26, 30, 29]\n",
    "print(f\"Weekly temperature: {weekly_temperature}\")"
   ]
  },
  {
   "cell_type": "code",
   "execution_count": 89,
   "id": "034729e9-3256-460a-b307-64c9cc78ebf5",
   "metadata": {},
   "outputs": [
    {
     "name": "stdout",
     "output_type": "stream",
     "text": [
      "City Data: {'name': 'City A', 'temperature': 25, 'carbon_footprint': 500.75, 'is_sustainable': False}\n"
     ]
    }
   ],
   "source": [
    "#Create a Dictionary variable to store city data\n",
    "city_data = {\n",
    "    \"name\" : \"City A\",\n",
    "    \"temperature\" : 25,\n",
    "    \"carbon_footprint\" : 500.75,\n",
    "    \"is_sustainable\" : False\n",
    "}\n",
    "#Print the dictionary\n",
    "print(f\"City Data: {city_data}\")"
   ]
  },
  {
   "cell_type": "code",
   "execution_count": 95,
   "id": "d3a6c1bc-b81f-4afe-95f1-74a7acc006dd",
   "metadata": {},
   "outputs": [
    {
     "name": "stdout",
     "output_type": "stream",
     "text": [
      "City Name: City B, Temperature: 30°C, Carbon Footprint: 350.5kg CO2\n"
     ]
    }
   ],
   "source": [
    "#Assign multtiple variables at once \n",
    "city_name, temperature, carbon_footprint = \"City B\", 30, 350.50\n",
    "#Print the values \n",
    "print(f\"City Name: {city_name}, Temperature: {temperature}°C, Carbon Footprint: {carbon_footprint}kg CO2\")"
   ]
  },
  {
   "cell_type": "code",
   "execution_count": 125,
   "id": "b50d5708-5b46-427f-bd2c-f1f2c407348f",
   "metadata": {},
   "outputs": [
    {
     "name": "stdout",
     "output_type": "stream",
     "text": [
      "0\n",
      "1\n",
      "2\n",
      "3\n",
      "4\n"
     ]
    }
   ],
   "source": [
    "for i in range(5): #start\n",
    "    print(i)"
   ]
  },
  {
   "cell_type": "code",
   "execution_count": 127,
   "id": "98189151-1dd8-4b06-a6f4-4801d7b1e815",
   "metadata": {},
   "outputs": [
    {
     "name": "stdout",
     "output_type": "stream",
     "text": [
      "2\n",
      "3\n",
      "4\n",
      "5\n",
      "6\n"
     ]
    }
   ],
   "source": [
    "for i in range(2, 7): #start and end \n",
    "    print(i)"
   ]
  },
  {
   "cell_type": "code",
   "execution_count": 129,
   "id": "282ce346-6d1f-4603-add8-5231076fb1bf",
   "metadata": {},
   "outputs": [
    {
     "name": "stdout",
     "output_type": "stream",
     "text": [
      "2\n",
      "4\n",
      "6\n",
      "8\n",
      "10\n",
      "12\n",
      "14\n",
      "16\n",
      "18\n",
      "20\n"
     ]
    }
   ],
   "source": [
    "for i in range(2, 21, 2): # start, end and step \n",
    "    print(i)"
   ]
  },
  {
   "cell_type": "code",
   "execution_count": 133,
   "id": "4af1bb9f-c28f-4854-88c9-1faa14ca7d1f",
   "metadata": {},
   "outputs": [
    {
     "name": "stdout",
     "output_type": "stream",
     "text": [
      "0\n",
      "1\n",
      "2\n",
      "3\n",
      "4\n"
     ]
    }
   ],
   "source": [
    "#Basic while loop\n",
    "count = 0\n",
    "while count < 5:\n",
    "    print(count)\n",
    "    count += 1"
   ]
  },
  {
   "cell_type": "code",
   "execution_count": 137,
   "id": "aac32acf-0fed-4027-b850-c8e7e37bc2e8",
   "metadata": {},
   "outputs": [
    {
     "name": "stdin",
     "output_type": "stream",
     "text": [
      "Enter something (type 'quit' to stop):  Hello World!\n"
     ]
    },
    {
     "name": "stdout",
     "output_type": "stream",
     "text": [
      "You entered:  Hello World!\n"
     ]
    },
    {
     "name": "stdin",
     "output_type": "stream",
     "text": [
      "Enter something (type 'quit' to stop):  I'm Gurupreet \n"
     ]
    },
    {
     "name": "stdout",
     "output_type": "stream",
     "text": [
      "You entered:  I'm Gurupreet \n"
     ]
    },
    {
     "name": "stdin",
     "output_type": "stream",
     "text": [
      "Enter something (type 'quit' to stop):  GoodBye \n"
     ]
    },
    {
     "name": "stdout",
     "output_type": "stream",
     "text": [
      "You entered:  GoodBye \n"
     ]
    },
    {
     "name": "stdin",
     "output_type": "stream",
     "text": [
      "Enter something (type 'quit' to stop):  quit\n"
     ]
    },
    {
     "name": "stdout",
     "output_type": "stream",
     "text": [
      "You entered:  quit\n"
     ]
    }
   ],
   "source": [
    "user_input = ''\n",
    "while user_input.lower() != 'quit':\n",
    "    user_input = input(\"Enter something (type 'quit' to stop): \")\n",
    "    print(\"You entered: \", user_input)"
   ]
  },
  {
   "cell_type": "code",
   "execution_count": 149,
   "id": "5d6b47b3-e299-4eff-9b31-23a05c07752e",
   "metadata": {},
   "outputs": [
    {
     "name": "stdout",
     "output_type": "stream",
     "text": [
      "Cities with high temperature (> 26°C):\n",
      "City B - 30°C\n",
      "City E - 28°C\n"
     ]
    }
   ],
   "source": [
    "#Sample climate dataset \n",
    "climate_data = [\n",
    "    {\"city\" : \"City A\", \"temperature\" : 25, \"carbon_footprint\" : 500},\n",
    "    {\"city\" : \"City B\", \"temperature\" : 30, \"carbon_footprint\" : 350},\n",
    "    {\"city\" : \"City C\", \"temperature\" : 22, \"carbon_footprint\" : 600},\n",
    "    {\"city\" : \"City D\", \"temperature\" : 15, \"carbon_footprint\" : 200},\n",
    "    {\"city\" : \"City E\", \"temperature\" : 28, \"carbon_footprint\" : 450}\n",
    "]\n",
    "#High temperature treshold (cities above this temperature will be selected \n",
    "high_temp_treshold = 26\n",
    "#Use a List comprehension to filter cities with temperatures higher than the threshold\n",
    "high_temp_cities = [city for city in climate_data if city[\"temperature\"] > high_temp_treshold]\n",
    "#Print the result \n",
    "print(\"Cities with high temperature (> 26°C):\")\n",
    "for city in high_temp_cities:\n",
    "    print(f\"{city['city']} - {city['temperature']}°C\")"
   ]
  },
  {
   "cell_type": "code",
   "execution_count": 157,
   "id": "631f4957-19a6-47f0-a6d7-185291fea873",
   "metadata": {},
   "outputs": [
    {
     "name": "stdout",
     "output_type": "stream",
     "text": [
      "InAverage Carbon Footprint: (average_carbon_footprint:.2f) kg C02\n"
     ]
    }
   ],
   "source": [
    "\n",
    "# We will continue using the same dataset as above\n",
    "# Initialize a variable to store the total carbon footprint\n",
    "total_carbon = 0\n",
    "# Use a for loop to go through each city in the dataset and add their carbon footprint\n",
    "for city in climate_data:\n",
    "    total_carbon += city[\"carbon_footprint\"] # Add each city's carbon footprint to the total\n",
    "# Calculate the average carbon footprint\n",
    "average_carbon_footprint = total_carbon / len(climate_data)\n",
    "# Print the average result\n",
    "print(f\"InAverage Carbon Footprint: (average_carbon_footprint:.2f) kg C02\")"
   ]
  },
  {
   "cell_type": "code",
   "execution_count": 183,
   "id": "4e5a4213-eb9c-4f58-a0e5-a4011203e126",
   "metadata": {},
   "outputs": [
    {
     "name": "stdout",
     "output_type": "stream",
     "text": [
      "\n",
      "Sustainable Cities (carbon footprint < 400 kg C02):\n",
      "City B - 350 kg CO2\n",
      "City D - 200 kg CO2\n"
     ]
    }
   ],
   "source": [
    "# Set a sustainability threshold (e.g., 400 kg CO2)\n",
    "sustainability_threshold = 400\n",
    "# Use a lambda function with filter() to get cities with a carbon footprint below the thresh\n",
    "sustainable_cities = list(filter(lambda city: city[\"carbon_footprint\"] < sustainability_threshold, climate_data))\n",
    "# Print the result\n",
    "print(\"\\nSustainable Cities (carbon footprint < 400 kg C02):\")\n",
    "for city in sustainable_cities:\n",
    "    print(f\"{city['city']} - {city['carbon_footprint']} kg CO2\")"
   ]
  },
  {
   "cell_type": "code",
   "execution_count": 193,
   "id": "d35d589f-a593-486a-86d3-a8cc8f1a193d",
   "metadata": {},
   "outputs": [
    {
     "name": "stdout",
     "output_type": "stream",
     "text": [
      "\n",
      "City with the highest carbon footprint:\n",
      "City C - 600 kg Co2\n"
     ]
    }
   ],
   "source": [
    "# Use max() to find the city with the highest carbon footprint\n",
    "highest_footprint_city = max(climate_data, key=lambda city: city[\"carbon_footprint\"])\n",
    "# Print the result\n",
    "print(f\"\\nCity with the highest carbon footprint:\")\n",
    "print(f\"{highest_footprint_city['city']} - {highest_footprint_city['carbon_footprint']} kg Co2\")"
   ]
  }
 ],
 "metadata": {
  "kernelspec": {
   "display_name": "Python 3 (ipykernel)",
   "language": "python",
   "name": "python3"
  },
  "language_info": {
   "codemirror_mode": {
    "name": "ipython",
    "version": 3
   },
   "file_extension": ".py",
   "mimetype": "text/x-python",
   "name": "python",
   "nbconvert_exporter": "python",
   "pygments_lexer": "ipython3",
   "version": "3.12.7"
  }
 },
 "nbformat": 4,
 "nbformat_minor": 5
}
