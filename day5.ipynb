{
 "cells": [
  {
   "cell_type": "code",
   "execution_count": 2,
   "id": "ac7ad629-7324-42a9-9826-cc7949be7890",
   "metadata": {},
   "outputs": [],
   "source": [
    "import numpy as np\n",
    "import pandas as pd\n",
    "import matplotlib.pyplot as plt\n",
    "from sklearn.model_selection import train_test_split\n",
    "from sklearn.preprocessing import StandardScaler\n",
    "from tensorflow.keras.models import Sequential\n",
    "from tensorflow.keras.layers import Dense"
   ]
  },
  {
   "cell_type": "code",
   "execution_count": 3,
   "id": "9dd289d1-3661-4368-9655-02ebee8695fc",
   "metadata": {},
   "outputs": [
    {
     "data": {
      "text/html": [
       "<div>\n",
       "<style scoped>\n",
       "    .dataframe tbody tr th:only-of-type {\n",
       "        vertical-align: middle;\n",
       "    }\n",
       "\n",
       "    .dataframe tbody tr th {\n",
       "        vertical-align: top;\n",
       "    }\n",
       "\n",
       "    .dataframe thead th {\n",
       "        text-align: right;\n",
       "    }\n",
       "</style>\n",
       "<table border=\"1\" class=\"dataframe\">\n",
       "  <thead>\n",
       "    <tr style=\"text-align: right;\">\n",
       "      <th></th>\n",
       "      <th>temperature</th>\n",
       "      <th>humidity</th>\n",
       "      <th>wind_speed</th>\n",
       "      <th>solar_irradiance</th>\n",
       "      <th>energy_consumption</th>\n",
       "    </tr>\n",
       "  </thead>\n",
       "  <tbody>\n",
       "    <tr>\n",
       "      <th>0</th>\n",
       "      <td>24.363503</td>\n",
       "      <td>31.107976</td>\n",
       "      <td>5.234114</td>\n",
       "      <td>705.432695</td>\n",
       "      <td>307.398145</td>\n",
       "    </tr>\n",
       "    <tr>\n",
       "      <th>1</th>\n",
       "      <td>38.767858</td>\n",
       "      <td>52.514057</td>\n",
       "      <td>4.939576</td>\n",
       "      <td>817.013258</td>\n",
       "      <td>412.444548</td>\n",
       "    </tr>\n",
       "    <tr>\n",
       "      <th>2</th>\n",
       "      <td>33.299849</td>\n",
       "      <td>72.376750</td>\n",
       "      <td>18.125092</td>\n",
       "      <td>325.421109</td>\n",
       "      <td>392.072418</td>\n",
       "    </tr>\n",
       "    <tr>\n",
       "      <th>3</th>\n",
       "      <td>29.966462</td>\n",
       "      <td>63.933493</td>\n",
       "      <td>4.990924</td>\n",
       "      <td>662.386690</td>\n",
       "      <td>119.254957</td>\n",
       "    </tr>\n",
       "    <tr>\n",
       "      <th>4</th>\n",
       "      <td>18.900466</td>\n",
       "      <td>68.393669</td>\n",
       "      <td>5.438995</td>\n",
       "      <td>614.571385</td>\n",
       "      <td>117.162261</td>\n",
       "    </tr>\n",
       "  </tbody>\n",
       "</table>\n",
       "</div>"
      ],
      "text/plain": [
       "   temperature   humidity  wind_speed  solar_irradiance  energy_consumption\n",
       "0    24.363503  31.107976    5.234114        705.432695          307.398145\n",
       "1    38.767858  52.514057    4.939576        817.013258          412.444548\n",
       "2    33.299849  72.376750   18.125092        325.421109          392.072418\n",
       "3    29.966462  63.933493    4.990924        662.386690          119.254957\n",
       "4    18.900466  68.393669    5.438995        614.571385          117.162261"
      ]
     },
     "execution_count": 3,
     "metadata": {},
     "output_type": "execute_result"
    }
   ],
   "source": [
    "data = pd.read_excel('predict_energy_consumption.xlsx')\n",
    "data.head()"
   ]
  },
  {
   "cell_type": "code",
   "execution_count": 4,
   "id": "95e98f1d-c71d-4dd7-a799-cc3b14d58302",
   "metadata": {},
   "outputs": [
    {
     "name": "stdout",
     "output_type": "stream",
     "text": [
      "<class 'pandas.core.frame.DataFrame'>\n",
      "RangeIndex: 1000 entries, 0 to 999\n",
      "Data columns (total 5 columns):\n",
      " #   Column              Non-Null Count  Dtype  \n",
      "---  ------              --------------  -----  \n",
      " 0   temperature         1000 non-null   float64\n",
      " 1   humidity            1000 non-null   float64\n",
      " 2   wind_speed          1000 non-null   float64\n",
      " 3   solar_irradiance    1000 non-null   float64\n",
      " 4   energy_consumption  1000 non-null   float64\n",
      "dtypes: float64(5)\n",
      "memory usage: 39.2 KB\n"
     ]
    }
   ],
   "source": [
    "data.info()"
   ]
  },
  {
   "cell_type": "code",
   "execution_count": 5,
   "id": "5d4a0077-3dfb-4add-9f5c-4f971c761009",
   "metadata": {},
   "outputs": [
    {
     "data": {
      "text/plain": [
       "(1000, 5)"
      ]
     },
     "execution_count": 5,
     "metadata": {},
     "output_type": "execute_result"
    }
   ],
   "source": [
    "data.shape"
   ]
  },
  {
   "cell_type": "code",
   "execution_count": 6,
   "id": "6efe399e-45bd-4663-99ab-f5d416f72cd9",
   "metadata": {},
   "outputs": [
    {
     "data": {
      "text/html": [
       "<div>\n",
       "<style scoped>\n",
       "    .dataframe tbody tr th:only-of-type {\n",
       "        vertical-align: middle;\n",
       "    }\n",
       "\n",
       "    .dataframe tbody tr th {\n",
       "        vertical-align: top;\n",
       "    }\n",
       "\n",
       "    .dataframe thead th {\n",
       "        text-align: right;\n",
       "    }\n",
       "</style>\n",
       "<table border=\"1\" class=\"dataframe\">\n",
       "  <thead>\n",
       "    <tr style=\"text-align: right;\">\n",
       "      <th></th>\n",
       "      <th>count</th>\n",
       "      <th>mean</th>\n",
       "      <th>std</th>\n",
       "      <th>min</th>\n",
       "      <th>25%</th>\n",
       "      <th>50%</th>\n",
       "      <th>75%</th>\n",
       "      <th>max</th>\n",
       "    </tr>\n",
       "  </thead>\n",
       "  <tbody>\n",
       "    <tr>\n",
       "      <th>temperature</th>\n",
       "      <td>1000.0</td>\n",
       "      <td>27.256414</td>\n",
       "      <td>7.303434</td>\n",
       "      <td>15.115801</td>\n",
       "      <td>20.899332</td>\n",
       "      <td>27.420184</td>\n",
       "      <td>33.607990</td>\n",
       "      <td>39.992942</td>\n",
       "    </tr>\n",
       "    <tr>\n",
       "      <th>humidity</th>\n",
       "      <td>1000.0</td>\n",
       "      <td>50.421038</td>\n",
       "      <td>17.531394</td>\n",
       "      <td>20.193096</td>\n",
       "      <td>34.464456</td>\n",
       "      <td>51.124034</td>\n",
       "      <td>65.627903</td>\n",
       "      <td>79.964824</td>\n",
       "    </tr>\n",
       "    <tr>\n",
       "      <th>wind_speed</th>\n",
       "      <td>1000.0</td>\n",
       "      <td>10.048115</td>\n",
       "      <td>5.813484</td>\n",
       "      <td>0.000233</td>\n",
       "      <td>5.227020</td>\n",
       "      <td>10.012278</td>\n",
       "      <td>15.182071</td>\n",
       "      <td>19.956417</td>\n",
       "    </tr>\n",
       "    <tr>\n",
       "      <th>solar_irradiance</th>\n",
       "      <td>1000.0</td>\n",
       "      <td>541.337543</td>\n",
       "      <td>257.840410</td>\n",
       "      <td>100.588052</td>\n",
       "      <td>317.710693</td>\n",
       "      <td>535.851355</td>\n",
       "      <td>763.786729</td>\n",
       "      <td>999.601933</td>\n",
       "    </tr>\n",
       "    <tr>\n",
       "      <th>energy_consumption</th>\n",
       "      <td>1000.0</td>\n",
       "      <td>272.347395</td>\n",
       "      <td>129.064474</td>\n",
       "      <td>50.013823</td>\n",
       "      <td>160.238303</td>\n",
       "      <td>272.569144</td>\n",
       "      <td>382.997053</td>\n",
       "      <td>498.987225</td>\n",
       "    </tr>\n",
       "  </tbody>\n",
       "</table>\n",
       "</div>"
      ],
      "text/plain": [
       "                     count        mean         std         min         25%  \\\n",
       "temperature         1000.0   27.256414    7.303434   15.115801   20.899332   \n",
       "humidity            1000.0   50.421038   17.531394   20.193096   34.464456   \n",
       "wind_speed          1000.0   10.048115    5.813484    0.000233    5.227020   \n",
       "solar_irradiance    1000.0  541.337543  257.840410  100.588052  317.710693   \n",
       "energy_consumption  1000.0  272.347395  129.064474   50.013823  160.238303   \n",
       "\n",
       "                           50%         75%         max  \n",
       "temperature          27.420184   33.607990   39.992942  \n",
       "humidity             51.124034   65.627903   79.964824  \n",
       "wind_speed           10.012278   15.182071   19.956417  \n",
       "solar_irradiance    535.851355  763.786729  999.601933  \n",
       "energy_consumption  272.569144  382.997053  498.987225  "
      ]
     },
     "execution_count": 6,
     "metadata": {},
     "output_type": "execute_result"
    }
   ],
   "source": [
    "data.describe(include='all').T"
   ]
  },
  {
   "cell_type": "code",
   "execution_count": 7,
   "id": "01e5f7a9-96f3-4248-961e-75e44ebc8f5f",
   "metadata": {},
   "outputs": [
    {
     "data": {
      "text/plain": [
       "temperature           0\n",
       "humidity              0\n",
       "wind_speed            0\n",
       "solar_irradiance      0\n",
       "energy_consumption    0\n",
       "dtype: int64"
      ]
     },
     "execution_count": 7,
     "metadata": {},
     "output_type": "execute_result"
    }
   ],
   "source": [
    "data.isnull().sum()"
   ]
  },
  {
   "cell_type": "code",
   "execution_count": 8,
   "id": "da502321-1e4a-407f-92a2-b2bb59b29f8e",
   "metadata": {},
   "outputs": [
    {
     "data": {
      "text/plain": [
       "Index(['temperature', 'humidity', 'wind_speed', 'solar_irradiance',\n",
       "       'energy_consumption'],\n",
       "      dtype='object')"
      ]
     },
     "execution_count": 8,
     "metadata": {},
     "output_type": "execute_result"
    }
   ],
   "source": [
    "data.columns"
   ]
  },
  {
   "cell_type": "code",
   "execution_count": 9,
   "id": "96739919-82c4-4980-8d26-c110f82895bd",
   "metadata": {},
   "outputs": [],
   "source": [
    "X = data[['temperature','humidity','wind_speed','solar_irradiance']].values\n",
    "y = data['energy_consumption'].values"
   ]
  },
  {
   "cell_type": "code",
   "execution_count": 10,
   "id": "554cf816-d382-446d-91f5-54379d9b8e46",
   "metadata": {},
   "outputs": [],
   "source": [
    "X_train, X_test, y_train, y_test = train_test_split(X,y, test_size=0.2, random_state=42)"
   ]
  },
  {
   "cell_type": "code",
   "execution_count": 11,
   "id": "5401844f-922b-4519-8732-66a94b698389",
   "metadata": {},
   "outputs": [],
   "source": [
    "scaler = StandardScaler()\n",
    "X_train = scaler.fit_transform(X_train)\n",
    "X_test = scaler.transform(X_test)"
   ]
  },
  {
   "cell_type": "code",
   "execution_count": 12,
   "id": "1661215d-b13a-434b-8498-7955321dfbc4",
   "metadata": {},
   "outputs": [
    {
     "name": "stderr",
     "output_type": "stream",
     "text": [
      "/opt/anaconda3/lib/python3.12/site-packages/keras/src/layers/core/dense.py:87: UserWarning: Do not pass an `input_shape`/`input_dim` argument to a layer. When using Sequential models, prefer using an `Input(shape)` object as the first layer in the model instead.\n",
      "  super().__init__(activity_regularizer=activity_regularizer, **kwargs)\n"
     ]
    }
   ],
   "source": [
    "model = Sequential([\n",
    "    Dense(64, activation='relu', input_shape=(X_train.shape[1],)),  #Input Layer with 64 neurons\n",
    "    Dense(32, activation='relu'),  #Hidden layer with 32 neurons\n",
    "    Dense(1)  #Output layer for regression with 1 neuron\n",
    "])"
   ]
  },
  {
   "cell_type": "code",
   "execution_count": 13,
   "id": "456f93c7-9f63-4cab-a571-ff83cd4ed9b6",
   "metadata": {},
   "outputs": [],
   "source": [
    "model.compile(optimizer='adam', loss='mse', metrics = ['mae'])"
   ]
  },
  {
   "cell_type": "code",
   "execution_count": 14,
   "id": "e814c58e-8709-4527-ad43-1e5fc6d65eff",
   "metadata": {},
   "outputs": [
    {
     "name": "stdout",
     "output_type": "stream",
     "text": [
      "Epoch 1/50\n",
      "\u001b[1m20/20\u001b[0m \u001b[32m━━━━━━━━━━━━━━━━━━━━\u001b[0m\u001b[37m\u001b[0m \u001b[1m0s\u001b[0m 4ms/step - loss: 82982.8828 - mae: 259.7002 - val_loss: 83417.0781 - val_mae: 258.4787\n",
      "Epoch 2/50\n",
      "\u001b[1m20/20\u001b[0m \u001b[32m━━━━━━━━━━━━━━━━━━━━\u001b[0m\u001b[37m\u001b[0m \u001b[1m0s\u001b[0m 2ms/step - loss: 90011.3125 - mae: 271.4410 - val_loss: 82715.7344 - val_mae: 257.1195\n",
      "Epoch 3/50\n",
      "\u001b[1m20/20\u001b[0m \u001b[32m━━━━━━━━━━━━━━━━━━━━\u001b[0m\u001b[37m\u001b[0m \u001b[1m0s\u001b[0m 2ms/step - loss: 87198.1875 - mae: 267.1866 - val_loss: 81643.2422 - val_mae: 255.0301\n",
      "Epoch 4/50\n",
      "\u001b[1m20/20\u001b[0m \u001b[32m━━━━━━━━━━━━━━━━━━━━\u001b[0m\u001b[37m\u001b[0m \u001b[1m0s\u001b[0m 2ms/step - loss: 87273.7266 - mae: 265.9851 - val_loss: 79996.6328 - val_mae: 251.7872\n",
      "Epoch 5/50\n",
      "\u001b[1m20/20\u001b[0m \u001b[32m━━━━━━━━━━━━━━━━━━━━\u001b[0m\u001b[37m\u001b[0m \u001b[1m0s\u001b[0m 2ms/step - loss: 87497.0938 - mae: 265.9324 - val_loss: 77570.8906 - val_mae: 246.9307\n",
      "Epoch 6/50\n",
      "\u001b[1m20/20\u001b[0m \u001b[32m━━━━━━━━━━━━━━━━━━━━\u001b[0m\u001b[37m\u001b[0m \u001b[1m0s\u001b[0m 2ms/step - loss: 82118.2031 - mae: 256.8857 - val_loss: 74252.1562 - val_mae: 240.1172\n",
      "Epoch 7/50\n",
      "\u001b[1m20/20\u001b[0m \u001b[32m━━━━━━━━━━━━━━━━━━━━\u001b[0m\u001b[37m\u001b[0m \u001b[1m0s\u001b[0m 2ms/step - loss: 77152.9609 - mae: 246.2592 - val_loss: 69910.7109 - val_mae: 230.8773\n",
      "Epoch 8/50\n",
      "\u001b[1m20/20\u001b[0m \u001b[32m━━━━━━━━━━━━━━━━━━━━\u001b[0m\u001b[37m\u001b[0m \u001b[1m0s\u001b[0m 2ms/step - loss: 75439.2344 - mae: 243.1276 - val_loss: 64467.9609 - val_mae: 218.7914\n",
      "Epoch 9/50\n",
      "\u001b[1m20/20\u001b[0m \u001b[32m━━━━━━━━━━━━━━━━━━━━\u001b[0m\u001b[37m\u001b[0m \u001b[1m0s\u001b[0m 2ms/step - loss: 67922.1250 - mae: 227.9111 - val_loss: 58100.4883 - val_mae: 203.8875\n",
      "Epoch 10/50\n",
      "\u001b[1m20/20\u001b[0m \u001b[32m━━━━━━━━━━━━━━━━━━━━\u001b[0m\u001b[37m\u001b[0m \u001b[1m0s\u001b[0m 2ms/step - loss: 63298.0117 - mae: 217.8295 - val_loss: 51020.0742 - val_mae: 186.7760\n",
      "Epoch 11/50\n",
      "\u001b[1m20/20\u001b[0m \u001b[32m━━━━━━━━━━━━━━━━━━━━\u001b[0m\u001b[37m\u001b[0m \u001b[1m0s\u001b[0m 6ms/step - loss: 52600.4062 - mae: 191.2109 - val_loss: 43837.3633 - val_mae: 170.3240\n",
      "Epoch 12/50\n",
      "\u001b[1m20/20\u001b[0m \u001b[32m━━━━━━━━━━━━━━━━━━━━\u001b[0m\u001b[37m\u001b[0m \u001b[1m0s\u001b[0m 2ms/step - loss: 45852.3594 - mae: 176.3844 - val_loss: 36797.5234 - val_mae: 153.9609\n",
      "Epoch 13/50\n",
      "\u001b[1m20/20\u001b[0m \u001b[32m━━━━━━━━━━━━━━━━━━━━\u001b[0m\u001b[37m\u001b[0m \u001b[1m0s\u001b[0m 2ms/step - loss: 39813.6055 - mae: 161.3619 - val_loss: 30639.0742 - val_mae: 139.0009\n",
      "Epoch 14/50\n",
      "\u001b[1m20/20\u001b[0m \u001b[32m━━━━━━━━━━━━━━━━━━━━\u001b[0m\u001b[37m\u001b[0m \u001b[1m0s\u001b[0m 2ms/step - loss: 30766.2988 - mae: 142.0486 - val_loss: 25655.3457 - val_mae: 126.3801\n",
      "Epoch 15/50\n",
      "\u001b[1m20/20\u001b[0m \u001b[32m━━━━━━━━━━━━━━━━━━━━\u001b[0m\u001b[37m\u001b[0m \u001b[1m0s\u001b[0m 2ms/step - loss: 26520.9395 - mae: 134.0505 - val_loss: 22147.3164 - val_mae: 119.1429\n",
      "Epoch 16/50\n",
      "\u001b[1m20/20\u001b[0m \u001b[32m━━━━━━━━━━━━━━━━━━━━\u001b[0m\u001b[37m\u001b[0m \u001b[1m0s\u001b[0m 2ms/step - loss: 23215.8359 - mae: 125.5359 - val_loss: 19956.3457 - val_mae: 115.7733\n",
      "Epoch 17/50\n",
      "\u001b[1m20/20\u001b[0m \u001b[32m━━━━━━━━━━━━━━━━━━━━\u001b[0m\u001b[37m\u001b[0m \u001b[1m0s\u001b[0m 2ms/step - loss: 19885.7480 - mae: 118.5845 - val_loss: 18834.0977 - val_mae: 114.8540\n",
      "Epoch 18/50\n",
      "\u001b[1m20/20\u001b[0m \u001b[32m━━━━━━━━━━━━━━━━━━━━\u001b[0m\u001b[37m\u001b[0m \u001b[1m0s\u001b[0m 2ms/step - loss: 18359.7422 - mae: 115.6570 - val_loss: 18376.8438 - val_mae: 114.5496\n",
      "Epoch 19/50\n",
      "\u001b[1m20/20\u001b[0m \u001b[32m━━━━━━━━━━━━━━━━━━━━\u001b[0m\u001b[37m\u001b[0m \u001b[1m0s\u001b[0m 2ms/step - loss: 17012.9355 - mae: 111.5251 - val_loss: 18241.4043 - val_mae: 114.7581\n",
      "Epoch 20/50\n",
      "\u001b[1m20/20\u001b[0m \u001b[32m━━━━━━━━━━━━━━━━━━━━\u001b[0m\u001b[37m\u001b[0m \u001b[1m0s\u001b[0m 2ms/step - loss: 17773.3867 - mae: 114.7928 - val_loss: 18232.2031 - val_mae: 115.1283\n",
      "Epoch 21/50\n",
      "\u001b[1m20/20\u001b[0m \u001b[32m━━━━━━━━━━━━━━━━━━━━\u001b[0m\u001b[37m\u001b[0m \u001b[1m0s\u001b[0m 3ms/step - loss: 16618.1270 - mae: 111.2757 - val_loss: 18252.7363 - val_mae: 115.5005\n",
      "Epoch 22/50\n",
      "\u001b[1m20/20\u001b[0m \u001b[32m━━━━━━━━━━━━━━━━━━━━\u001b[0m\u001b[37m\u001b[0m \u001b[1m0s\u001b[0m 2ms/step - loss: 18178.9609 - mae: 117.3814 - val_loss: 18309.4941 - val_mae: 115.7969\n",
      "Epoch 23/50\n",
      "\u001b[1m20/20\u001b[0m \u001b[32m━━━━━━━━━━━━━━━━━━━━\u001b[0m\u001b[37m\u001b[0m \u001b[1m0s\u001b[0m 2ms/step - loss: 17411.9922 - mae: 115.1019 - val_loss: 18309.8828 - val_mae: 115.8697\n",
      "Epoch 24/50\n",
      "\u001b[1m20/20\u001b[0m \u001b[32m━━━━━━━━━━━━━━━━━━━━\u001b[0m\u001b[37m\u001b[0m \u001b[1m0s\u001b[0m 2ms/step - loss: 17279.5996 - mae: 113.8939 - val_loss: 18312.7598 - val_mae: 116.0339\n",
      "Epoch 25/50\n",
      "\u001b[1m20/20\u001b[0m \u001b[32m━━━━━━━━━━━━━━━━━━━━\u001b[0m\u001b[37m\u001b[0m \u001b[1m0s\u001b[0m 2ms/step - loss: 17957.5684 - mae: 117.1200 - val_loss: 18323.6465 - val_mae: 116.0834\n",
      "Epoch 26/50\n",
      "\u001b[1m20/20\u001b[0m \u001b[32m━━━━━━━━━━━━━━━━━━━━\u001b[0m\u001b[37m\u001b[0m \u001b[1m0s\u001b[0m 2ms/step - loss: 17371.9941 - mae: 114.9782 - val_loss: 18321.2227 - val_mae: 116.1101\n",
      "Epoch 27/50\n",
      "\u001b[1m20/20\u001b[0m \u001b[32m━━━━━━━━━━━━━━━━━━━━\u001b[0m\u001b[37m\u001b[0m \u001b[1m0s\u001b[0m 2ms/step - loss: 17388.6875 - mae: 114.0482 - val_loss: 18322.0430 - val_mae: 116.2047\n",
      "Epoch 28/50\n",
      "\u001b[1m20/20\u001b[0m \u001b[32m━━━━━━━━━━━━━━━━━━━━\u001b[0m\u001b[37m\u001b[0m \u001b[1m0s\u001b[0m 2ms/step - loss: 17382.5098 - mae: 113.6117 - val_loss: 18323.6289 - val_mae: 116.2090\n",
      "Epoch 29/50\n",
      "\u001b[1m20/20\u001b[0m \u001b[32m━━━━━━━━━━━━━━━━━━━━\u001b[0m\u001b[37m\u001b[0m \u001b[1m0s\u001b[0m 2ms/step - loss: 17227.4668 - mae: 113.5375 - val_loss: 18356.0137 - val_mae: 116.3290\n",
      "Epoch 30/50\n",
      "\u001b[1m20/20\u001b[0m \u001b[32m━━━━━━━━━━━━━━━━━━━━\u001b[0m\u001b[37m\u001b[0m \u001b[1m0s\u001b[0m 2ms/step - loss: 18678.6523 - mae: 119.1364 - val_loss: 18302.0254 - val_mae: 116.1827\n",
      "Epoch 31/50\n",
      "\u001b[1m20/20\u001b[0m \u001b[32m━━━━━━━━━━━━━━━━━━━━\u001b[0m\u001b[37m\u001b[0m \u001b[1m0s\u001b[0m 3ms/step - loss: 17769.9766 - mae: 115.8040 - val_loss: 18303.6387 - val_mae: 116.1945\n",
      "Epoch 32/50\n",
      "\u001b[1m20/20\u001b[0m \u001b[32m━━━━━━━━━━━━━━━━━━━━\u001b[0m\u001b[37m\u001b[0m \u001b[1m0s\u001b[0m 2ms/step - loss: 17502.3516 - mae: 114.5710 - val_loss: 18290.4023 - val_mae: 116.1454\n",
      "Epoch 33/50\n",
      "\u001b[1m20/20\u001b[0m \u001b[32m━━━━━━━━━━━━━━━━━━━━\u001b[0m\u001b[37m\u001b[0m \u001b[1m0s\u001b[0m 2ms/step - loss: 17245.0684 - mae: 113.8041 - val_loss: 18271.1680 - val_mae: 116.0714\n",
      "Epoch 34/50\n",
      "\u001b[1m20/20\u001b[0m \u001b[32m━━━━━━━━━━━━━━━━━━━━\u001b[0m\u001b[37m\u001b[0m \u001b[1m0s\u001b[0m 2ms/step - loss: 16387.7793 - mae: 109.9644 - val_loss: 18302.7344 - val_mae: 116.2344\n",
      "Epoch 35/50\n",
      "\u001b[1m20/20\u001b[0m \u001b[32m━━━━━━━━━━━━━━━━━━━━\u001b[0m\u001b[37m\u001b[0m \u001b[1m0s\u001b[0m 2ms/step - loss: 16871.8848 - mae: 113.3289 - val_loss: 18307.2891 - val_mae: 116.2505\n",
      "Epoch 36/50\n",
      "\u001b[1m20/20\u001b[0m \u001b[32m━━━━━━━━━━━━━━━━━━━━\u001b[0m\u001b[37m\u001b[0m \u001b[1m0s\u001b[0m 2ms/step - loss: 16538.9160 - mae: 111.2467 - val_loss: 18295.0664 - val_mae: 116.1968\n",
      "Epoch 37/50\n",
      "\u001b[1m20/20\u001b[0m \u001b[32m━━━━━━━━━━━━━━━━━━━━\u001b[0m\u001b[37m\u001b[0m \u001b[1m0s\u001b[0m 2ms/step - loss: 16931.9570 - mae: 111.9796 - val_loss: 18270.2012 - val_mae: 116.1417\n",
      "Epoch 38/50\n",
      "\u001b[1m20/20\u001b[0m \u001b[32m━━━━━━━━━━━━━━━━━━━━\u001b[0m\u001b[37m\u001b[0m \u001b[1m0s\u001b[0m 2ms/step - loss: 17771.7891 - mae: 116.4547 - val_loss: 18286.4414 - val_mae: 116.2033\n",
      "Epoch 39/50\n",
      "\u001b[1m20/20\u001b[0m \u001b[32m━━━━━━━━━━━━━━━━━━━━\u001b[0m\u001b[37m\u001b[0m \u001b[1m0s\u001b[0m 2ms/step - loss: 17148.9531 - mae: 114.0154 - val_loss: 18287.9531 - val_mae: 116.2058\n",
      "Epoch 40/50\n",
      "\u001b[1m20/20\u001b[0m \u001b[32m━━━━━━━━━━━━━━━━━━━━\u001b[0m\u001b[37m\u001b[0m \u001b[1m0s\u001b[0m 2ms/step - loss: 17748.6367 - mae: 116.4625 - val_loss: 18264.3223 - val_mae: 116.1082\n",
      "Epoch 41/50\n",
      "\u001b[1m20/20\u001b[0m \u001b[32m━━━━━━━━━━━━━━━━━━━━\u001b[0m\u001b[37m\u001b[0m \u001b[1m0s\u001b[0m 2ms/step - loss: 17701.0586 - mae: 115.2649 - val_loss: 18250.8398 - val_mae: 116.0759\n",
      "Epoch 42/50\n",
      "\u001b[1m20/20\u001b[0m \u001b[32m━━━━━━━━━━━━━━━━━━━━\u001b[0m\u001b[37m\u001b[0m \u001b[1m0s\u001b[0m 3ms/step - loss: 17625.9434 - mae: 115.8754 - val_loss: 18274.3633 - val_mae: 116.1751\n",
      "Epoch 43/50\n",
      "\u001b[1m20/20\u001b[0m \u001b[32m━━━━━━━━━━━━━━━━━━━━\u001b[0m\u001b[37m\u001b[0m \u001b[1m0s\u001b[0m 2ms/step - loss: 17151.7539 - mae: 114.1722 - val_loss: 18233.6777 - val_mae: 116.0238\n",
      "Epoch 44/50\n",
      "\u001b[1m20/20\u001b[0m \u001b[32m━━━━━━━━━━━━━━━━━━━━\u001b[0m\u001b[37m\u001b[0m \u001b[1m0s\u001b[0m 2ms/step - loss: 17893.3105 - mae: 116.7306 - val_loss: 18274.1738 - val_mae: 116.1978\n",
      "Epoch 45/50\n",
      "\u001b[1m20/20\u001b[0m \u001b[32m━━━━━━━━━━━━━━━━━━━━\u001b[0m\u001b[37m\u001b[0m \u001b[1m0s\u001b[0m 2ms/step - loss: 16455.0254 - mae: 110.7827 - val_loss: 18278.4570 - val_mae: 116.1568\n",
      "Epoch 46/50\n",
      "\u001b[1m20/20\u001b[0m \u001b[32m━━━━━━━━━━━━━━━━━━━━\u001b[0m\u001b[37m\u001b[0m \u001b[1m0s\u001b[0m 2ms/step - loss: 17942.3770 - mae: 116.7009 - val_loss: 18222.3789 - val_mae: 116.0099\n",
      "Epoch 47/50\n",
      "\u001b[1m20/20\u001b[0m \u001b[32m━━━━━━━━━━━━━━━━━━━━\u001b[0m\u001b[37m\u001b[0m \u001b[1m0s\u001b[0m 2ms/step - loss: 17180.5410 - mae: 113.4312 - val_loss: 18280.1543 - val_mae: 116.2093\n",
      "Epoch 48/50\n",
      "\u001b[1m20/20\u001b[0m \u001b[32m━━━━━━━━━━━━━━━━━━━━\u001b[0m\u001b[37m\u001b[0m \u001b[1m0s\u001b[0m 2ms/step - loss: 15574.1875 - mae: 107.7001 - val_loss: 18256.1992 - val_mae: 116.1214\n",
      "Epoch 49/50\n",
      "\u001b[1m20/20\u001b[0m \u001b[32m━━━━━━━━━━━━━━━━━━━━\u001b[0m\u001b[37m\u001b[0m \u001b[1m0s\u001b[0m 2ms/step - loss: 17244.5859 - mae: 113.4971 - val_loss: 18217.4844 - val_mae: 116.0157\n",
      "Epoch 50/50\n",
      "\u001b[1m20/20\u001b[0m \u001b[32m━━━━━━━━━━━━━━━━━━━━\u001b[0m\u001b[37m\u001b[0m \u001b[1m0s\u001b[0m 2ms/step - loss: 16795.9258 - mae: 112.5793 - val_loss: 18213.8555 - val_mae: 116.0346\n"
     ]
    }
   ],
   "source": [
    "history = model.fit(X_train, y_train, epochs=50, batch_size=32, validation_split=0.2,verbose=1)"
   ]
  },
  {
   "cell_type": "code",
   "execution_count": 15,
   "id": "6c51ad25-4233-4db4-8485-d23b2a254d19",
   "metadata": {},
   "outputs": [
    {
     "name": "stdout",
     "output_type": "stream",
     "text": [
      "\u001b[1m7/7\u001b[0m \u001b[32m━━━━━━━━━━━━━━━━━━━━\u001b[0m\u001b[37m\u001b[0m \u001b[1m0s\u001b[0m 2ms/step - loss: 18110.9180 - mae: 115.7486 \n",
      "Test Mean Absolute Error:116.16\n"
     ]
    }
   ],
   "source": [
    "test_loss, test_mae = model.evaluate(X_test,y_test,verbose=1)\n",
    "print(f\"Test Mean Absolute Error:{test_mae:.2f}\")\n"
   ]
  },
  {
   "cell_type": "code",
   "execution_count": 16,
   "id": "7fca623e-a9a2-47b4-b125-3c94be64c926",
   "metadata": {},
   "outputs": [
    {
     "data": {
      "image/png": "[encoded data removed]",
      "text/plain": [
       "<Figure size 640x480 with 1 Axes>"
      ]
     },
     "metadata": {},
     "output_type": "display_data"
    }
   ],
   "source": [
    "plt.plot(history.history['loss'], label='Training Loss')\n",
    "plt.plot(history.history['val_loss'], label='Validation Loss')\n",
    "plt.xlabel('Epochs')\n",
    "plt.ylabel('Loss')\n",
    "plt.title('Model Training Performance')\n",
    "plt.legend()\n",
    "plt.show()"
   ]
  },
  {
   "cell_type": "code",
   "execution_count": 17,
   "id": "907ceb92-1741-4e88-a26f-ba33620077db",
   "metadata": {},
   "outputs": [
    {
     "name": "stdout",
     "output_type": "stream",
     "text": [
      "\u001b[1m7/7\u001b[0m \u001b[32m━━━━━━━━━━━━━━━━━━━━\u001b[0m\u001b[37m\u001b[0m \u001b[1m0s\u001b[0m 3ms/step \n"
     ]
    },
    {
     "data": {
      "text/plain": [
       "array([[287.89496],\n",
       "       [250.53767],\n",
       "       [259.0155 ],\n",
       "       [211.13107],\n",
       "       [344.3858 ],\n",
       "       [298.5806 ],\n",
       "       [303.8252 ],\n",
       "       [288.57928],\n",
       "       [295.63202],\n",
       "       [276.1277 ],\n",
       "       [236.35686],\n",
       "       [261.0826 ],\n",
       "       [276.2481 ],\n",
       "       [234.7711 ],\n",
       "       [296.16437],\n",
       "       [318.58978],\n",
       "       [265.58838],\n",
       "       [317.97165],\n",
       "       [300.1422 ],\n",
       "       [247.57524],\n",
       "       [277.84583],\n",
       "       [286.20236],\n",
       "       [280.27042],\n",
       "       [279.8575 ],\n",
       "       [251.68977],\n",
       "       [244.11198],\n",
       "       [254.79527],\n",
       "       [316.0711 ],\n",
       "       [317.47852],\n",
       "       [264.53986],\n",
       "       [236.05829],\n",
       "       [312.7246 ],\n",
       "       [293.87726],\n",
       "       [267.59613],\n",
       "       [312.27554],\n",
       "       [294.73337],\n",
       "       [215.53693],\n",
       "       [252.20224],\n",
       "       [283.5185 ],\n",
       "       [242.9742 ],\n",
       "       [246.60039],\n",
       "       [248.374  ],\n",
       "       [253.27429],\n",
       "       [252.91595],\n",
       "       [273.7337 ],\n",
       "       [248.92369],\n",
       "       [268.99048],\n",
       "       [256.6187 ],\n",
       "       [297.45428],\n",
       "       [292.43604],\n",
       "       [222.25807],\n",
       "       [265.56952],\n",
       "       [257.22577],\n",
       "       [214.22867],\n",
       "       [316.98505],\n",
       "       [285.29816],\n",
       "       [250.73262],\n",
       "       [281.9288 ],\n",
       "       [260.0529 ],\n",
       "       [296.7215 ],\n",
       "       [257.24152],\n",
       "       [274.96207],\n",
       "       [274.12317],\n",
       "       [321.04648],\n",
       "       [308.3681 ],\n",
       "       [274.24673],\n",
       "       [314.91022],\n",
       "       [254.26729],\n",
       "       [243.492  ],\n",
       "       [233.05489],\n",
       "       [311.5378 ],\n",
       "       [258.14905],\n",
       "       [286.40164],\n",
       "       [258.70795],\n",
       "       [265.5031 ],\n",
       "       [278.46466],\n",
       "       [226.59958],\n",
       "       [220.36542],\n",
       "       [274.96765],\n",
       "       [277.1153 ],\n",
       "       [241.20708],\n",
       "       [294.11792],\n",
       "       [246.61818],\n",
       "       [282.73242],\n",
       "       [251.52028],\n",
       "       [251.63417],\n",
       "       [290.269  ],\n",
       "       [304.8325 ],\n",
       "       [219.58562],\n",
       "       [286.34793],\n",
       "       [321.96902],\n",
       "       [256.09464],\n",
       "       [299.88818],\n",
       "       [239.61234],\n",
       "       [230.16148],\n",
       "       [251.50583],\n",
       "       [270.899  ],\n",
       "       [271.2367 ],\n",
       "       [203.26843],\n",
       "       [256.33398],\n",
       "       [289.53543],\n",
       "       [263.41504],\n",
       "       [262.36078],\n",
       "       [265.38193],\n",
       "       [222.40335],\n",
       "       [285.63525],\n",
       "       [331.21228],\n",
       "       [298.18036],\n",
       "       [279.28986],\n",
       "       [270.83072],\n",
       "       [341.91934],\n",
       "       [254.67393],\n",
       "       [303.42072],\n",
       "       [216.8697 ],\n",
       "       [268.1759 ],\n",
       "       [265.6189 ],\n",
       "       [241.89311],\n",
       "       [288.90585],\n",
       "       [254.65236],\n",
       "       [333.65063],\n",
       "       [241.49924],\n",
       "       [276.3283 ],\n",
       "       [206.71709],\n",
       "       [263.27228],\n",
       "       [285.5822 ],\n",
       "       [233.73305],\n",
       "       [221.40509],\n",
       "       [274.01382],\n",
       "       [255.79007],\n",
       "       [271.75256],\n",
       "       [318.44424],\n",
       "       [271.09106],\n",
       "       [307.42505],\n",
       "       [282.98215],\n",
       "       [280.0551 ],\n",
       "       [267.8995 ],\n",
       "       [275.06744],\n",
       "       [260.41458],\n",
       "       [252.80623],\n",
       "       [281.85388],\n",
       "       [286.07706],\n",
       "       [326.47662],\n",
       "       [273.1671 ],\n",
       "       [253.56662],\n",
       "       [226.79108],\n",
       "       [256.4079 ],\n",
       "       [271.21954],\n",
       "       [298.76117],\n",
       "       [225.64494],\n",
       "       [299.4605 ],\n",
       "       [218.94492],\n",
       "       [272.44745],\n",
       "       [285.46606],\n",
       "       [303.82065],\n",
       "       [228.21458],\n",
       "       [256.00656],\n",
       "       [247.93799],\n",
       "       [234.72678],\n",
       "       [302.08044],\n",
       "       [296.0968 ],\n",
       "       [220.34932],\n",
       "       [266.6157 ],\n",
       "       [250.88158],\n",
       "       [276.32242],\n",
       "       [248.77856],\n",
       "       [289.43478],\n",
       "       [259.69412],\n",
       "       [295.56683],\n",
       "       [299.8982 ],\n",
       "       [238.35567],\n",
       "       [242.06328],\n",
       "       [225.58823],\n",
       "       [270.75177],\n",
       "       [255.97304],\n",
       "       [238.4154 ],\n",
       "       [226.10172],\n",
       "       [280.2732 ],\n",
       "       [262.9038 ],\n",
       "       [266.29663],\n",
       "       [260.50537],\n",
       "       [204.95161],\n",
       "       [242.3774 ],\n",
       "       [284.35004],\n",
       "       [257.1394 ],\n",
       "       [214.21803],\n",
       "       [219.28038],\n",
       "       [317.75882],\n",
       "       [273.65912],\n",
       "       [286.75995],\n",
       "       [254.376  ],\n",
       "       [291.60593],\n",
       "       [282.97537],\n",
       "       [247.0719 ],\n",
       "       [257.4744 ],\n",
       "       [293.9324 ],\n",
       "       [295.02917],\n",
       "       [269.33618],\n",
       "       [254.7729 ],\n",
       "       [258.01782],\n",
       "       [302.3978 ]], dtype=float32)"
      ]
     },
     "execution_count": 17,
     "metadata": {},
     "output_type": "execute_result"
    }
   ],
   "source": [
    "predictions = model.predict(X_test)\n",
    "predictions"
   ]
  },
  {
   "cell_type": "code",
   "execution_count": 18,
   "id": "d94d285e-e075-4a1f-9903-24552e0df00e",
   "metadata": {},
   "outputs": [
    {
     "data": {
      "image/png": "[encoded data removed]",
      "text/plain": [
       "<Figure size 640x480 with 1 Axes>"
      ]
     },
     "metadata": {},
     "output_type": "display_data"
    }
   ],
   "source": [
    "plt.scatter(y_test, predictions)\n",
    "plt.xlabel('True Energy Consumption')\n",
    "plt.ylabel('Predicted Ennergy Consumption')\n",
    "plt.title('Predicions vs True Values')\n",
    "plt.show()"
   ]
  },
  {
   "cell_type": "code",
   "execution_count": null,
   "id": "bc7d8f94-7c95-4ac8-958e-33ed77095c28",
   "metadata": {},
   "outputs": [],
   "source": []
  }
 ],
 "metadata": {
  "kernelspec": {
   "display_name": "Python 3 (ipykernel)",
   "language": "python",
   "name": "python3"
  },
  "language_info": {
   "codemirror_mode": {
    "name": "ipython",
    "version": 3
   },
   "file_extension": ".py",
   "mimetype": "text/x-python",
   "name": "python",
   "nbconvert_exporter": "python",
   "pygments_lexer": "ipython3",
   "version": "3.12.7"
  }
 },
 "nbformat": 4,
 "nbformat_minor": 5
}
